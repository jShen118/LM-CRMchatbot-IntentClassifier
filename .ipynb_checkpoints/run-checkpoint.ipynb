{
 "cells": [
  {
   "cell_type": "code",
   "execution_count": 1,
   "metadata": {},
   "outputs": [],
   "source": [
    "%run IntentClassifier.py\n",
    "%run batchtesting.py"
   ]
  },
  {
   "cell_type": "code",
   "execution_count": 2,
   "metadata": {},
   "outputs": [
    {
     "name": "stdout",
     "output_type": "stream",
     "text": [
      "BATCH TEST OF Batch_Tests/75-1.json\n",
      "75 Utterances. 31/75 41.33% Labeled Correctly\n",
      "F-Scores:\n",
      "  Intent.AccessIssues: 0.667\n",
      "  Intent.CallQualityIssues: 0.2\n",
      "  Intent.FrozenLoadingIssue: 0.333\n",
      "  Intent.GRMIssues: 0.6\n",
      "  Intent.GRSIssues: 0.8\n",
      "  Intent.MobileManagement: 0.167\n",
      "  Intent.NetworkIssues: N/A (true positive of 0, cannot divide by 0)\n",
      "  Intent.OutlookIssues: 0.75\n",
      "  Intent.RatingIssues: N/A (true positive of 0, cannot divide by 0)\n",
      "  Intent.HardWareIssues: 0.286\n",
      "  None: 0.333\n",
      "  Average: 0.4595555555555555\n",
      "\n",
      "\n",
      "\n",
      "BATCH TEST OF Batch_Tests/75-2.json\n",
      "75 Utterances. 32/75 42.67% Labeled Correctly\n",
      "F-Scores:\n",
      "  Intent.AccessIssues: 0.5\n",
      "  Intent.CallQualityIssues: 0.4\n",
      "  Intent.FrozenLoadingIssue: N/A (true positive of 0, cannot divide by 0)\n",
      "  Intent.GRMIssues: 0.429\n",
      "  Intent.GRSIssues: 0.75\n",
      "  Intent.MobileManagement: 0.222\n",
      "  Intent.NetworkIssues: 0.25\n",
      "  Intent.OutlookIssues: 0.833\n",
      "  Intent.RatingIssues: N/A (true positive of 0, cannot divide by 0)\n",
      "  Intent.HardWareIssues: 0.5\n",
      "  None: 0.27\n",
      "  Average: 0.46155555555555555\n",
      "\n",
      "\n",
      "\n",
      "BATCH TEST OF Batch_Tests/75-3.json\n",
      "75 Utterances. 31/75 41.33% Labeled Correctly\n",
      "F-Scores:\n",
      "  Intent.AccessIssues: 0.462\n",
      "  Intent.CallQualityIssues: N/A (true positive of 0, cannot divide by 0)\n",
      "  Intent.FrozenLoadingIssue: 0.4\n",
      "  Intent.GRMIssues: 0.588\n",
      "  Intent.GRSIssues: 0.571\n",
      "  Intent.MobileManagement: 0.333\n",
      "  Intent.NetworkIssues: 0.133\n",
      "  Intent.OutlookIssues: 0.857\n",
      "  Intent.RatingIssues: N/A (true positive of 0, cannot divide by 0)\n",
      "  Intent.HardWareIssues: N/A (true positive of 0, cannot divide by 0)\n",
      "  None: 0.294\n",
      "  Average: 0.45475000000000004\n",
      "\n",
      "\n",
      "\n"
     ]
    }
   ],
   "source": [
    "batchtest('Batch_Tests/75-1.json', 'rbf', verbose=False)\n",
    "batchtest('Batch_Tests/75-2.json', 'rbf', verbose=False)\n",
    "batchtest('Batch_Tests/75-3.json', 'rbf', verbose=False)"
   ]
  },
  {
   "cell_type": "code",
   "execution_count": 3,
   "metadata": {},
   "outputs": [
    {
     "data": {
      "text/plain": [
       "['un access sal forc get er mess',\n",
       " 'mang try get access rest',\n",
       " 'nee help new employ first tim login',\n",
       " 'nee access',\n",
       " 'avay tak password',\n",
       " 'lm login issu team memb',\n",
       " 'good morn lock log enterpr',\n",
       " 'peopl liberty giv er mess try access',\n",
       " 'shar point access',\n",
       " 'enterpr id password reset',\n",
       " 'im try login oca password show invalid',\n",
       " 'cant access voicemailâ',\n",
       " 'un op doc watson',\n",
       " 'reset password',\n",
       " 'password reset',\n",
       " 'becom deleg long ex employ',\n",
       " 'racf password',\n",
       " 'lock trac many incorrect login attempt',\n",
       " 'lost access sal forc affin programarm',\n",
       " 'un op sal forc',\n",
       " 'aaccount login info avail retriev',\n",
       " 'good morn access bocomp revok ent password wrong',\n",
       " 'arm un login send form',\n",
       " 'along peer troubl access ac via',\n",
       " 'lock eid login',\n",
       " 'un login navig',\n",
       " 'nee help reset racf id revok',\n",
       " 'cannot access',\n",
       " 'nee assign phon numb new employ',\n",
       " 'requir access',\n",
       " 'requestitform6004 access declinednee assign rit remedy team',\n",
       " 'request',\n",
       " 'new im comput cannot login lm domain us hom network',\n",
       " 'return leav 6232021 access mcdc sso er',\n",
       " 'pot lock via enterpr password work ac',\n",
       " 'un sign new avay updateâ',\n",
       " 'racf id work',\n",
       " 'nee get access viaac',\n",
       " 'nee midway access',\n",
       " 'temp tok issu']"
      ]
     },
     "execution_count": 3,
     "metadata": {},
     "output_type": "execute_result"
    }
   ],
   "source": [
    "accessNormalized"
   ]
  },
  {
   "cell_type": "code",
   "execution_count": 4,
   "metadata": {},
   "outputs": [
    {
     "data": {
      "text/plain": [
       "'\\nTo Do:\\n*f-score calculations\\n*make Utterances class\\n*normalizations:\\n    stemming\\n    punctuation removal\\nNone hardcode label if max not high\\nresearch vectorizers more, experiment w type and params\\nmake BatchTest class\\nbatchstests function with pandas output\\nreview INCORRECTs and add to training data\\n    make function in training.py to add newly labelled utterances to training.json\\n\\nentities https://docs.microsoft.com/en-us/azure/cognitive-services/luis/luis-concept-entity-types\\n    list entity\\n    regex entity\\n    prebuilt entity\\n    ML entity\\n\\n'"
      ]
     },
     "execution_count": 4,
     "metadata": {},
     "output_type": "execute_result"
    }
   ],
   "source": [
    "'''\n",
    "To Do:\n",
    "*f-score calculations\n",
    "*make Utterances class\n",
    "*normalizations:\n",
    "    stemming\n",
    "    punctuation removal\n",
    "None hardcode label if max not high\n",
    "research vectorizers more, experiment w type and params\n",
    "make BatchTest class\n",
    "batchstests function with pandas output\n",
    "review INCORRECTs and add to training data (not the verbatim tho that's cheating)\n",
    "    make function in training.py to add newly labelled utterances to training.json\n",
    "entities https://docs.microsoft.com/en-us/azure/cognitive-services/luis/luis-concept-entity-types\n",
    "    list entity\n",
    "    regex entity\n",
    "    prebuilt entity\n",
    "    ML entity\n",
    "\n",
    "'''"
   ]
  },
  {
   "cell_type": "code",
   "execution_count": null,
   "metadata": {},
   "outputs": [],
   "source": []
  }
 ],
 "metadata": {
  "kernelspec": {
   "display_name": "Python 3",
   "language": "python",
   "name": "python3"
  },
  "language_info": {
   "codemirror_mode": {
    "name": "ipython",
    "version": 3
   },
   "file_extension": ".py",
   "mimetype": "text/x-python",
   "name": "python",
   "nbconvert_exporter": "python",
   "pygments_lexer": "ipython3",
   "version": "3.8.5"
  }
 },
 "nbformat": 4,
 "nbformat_minor": 4
}

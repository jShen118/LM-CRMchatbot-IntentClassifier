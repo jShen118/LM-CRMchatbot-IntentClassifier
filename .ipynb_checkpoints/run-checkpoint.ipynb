{
 "cells": [
  {
   "cell_type": "code",
   "execution_count": 1,
   "metadata": {},
   "outputs": [],
   "source": [
    "%run IntentClassifier.py\n",
    "%run batchtesting.py"
   ]
  },
  {
   "cell_type": "code",
   "execution_count": 2,
   "metadata": {},
   "outputs": [
    {
     "data": {
      "text/html": [
       "<div>\n",
       "<style scoped>\n",
       "    .dataframe tbody tr th:only-of-type {\n",
       "        vertical-align: middle;\n",
       "    }\n",
       "\n",
       "    .dataframe tbody tr th {\n",
       "        vertical-align: top;\n",
       "    }\n",
       "\n",
       "    .dataframe thead th {\n",
       "        text-align: right;\n",
       "    }\n",
       "</style>\n",
       "<table border=\"1\" class=\"dataframe\">\n",
       "  <thead>\n",
       "    <tr style=\"text-align: right;\">\n",
       "      <th></th>\n",
       "      <th>Access</th>\n",
       "      <th>Call</th>\n",
       "      <th>Frozen</th>\n",
       "      <th>GRM</th>\n",
       "      <th>GRS</th>\n",
       "      <th>Mobile</th>\n",
       "      <th>Network</th>\n",
       "      <th>Outlook</th>\n",
       "      <th>Rating</th>\n",
       "      <th>Hardware</th>\n",
       "      <th>None</th>\n",
       "      <th>Avg</th>\n",
       "    </tr>\n",
       "  </thead>\n",
       "  <tbody>\n",
       "    <tr>\n",
       "      <th>75-1</th>\n",
       "      <td>0.741</td>\n",
       "      <td>1.000</td>\n",
       "      <td>0.706</td>\n",
       "      <td>0.769</td>\n",
       "      <td>0.667</td>\n",
       "      <td>0.941</td>\n",
       "      <td>1.000</td>\n",
       "      <td>0.875</td>\n",
       "      <td>0.800</td>\n",
       "      <td>0.889</td>\n",
       "      <td>0.824</td>\n",
       "      <td>0.837</td>\n",
       "    </tr>\n",
       "    <tr>\n",
       "      <th>75-2</th>\n",
       "      <td>0.750</td>\n",
       "      <td>0.727</td>\n",
       "      <td>0.667</td>\n",
       "      <td>0.842</td>\n",
       "      <td>0.800</td>\n",
       "      <td>0.941</td>\n",
       "      <td>0.857</td>\n",
       "      <td>0.818</td>\n",
       "      <td>1.000</td>\n",
       "      <td>0.750</td>\n",
       "      <td>0.750</td>\n",
       "      <td>0.809</td>\n",
       "    </tr>\n",
       "    <tr>\n",
       "      <th>75-3</th>\n",
       "      <td>0.545</td>\n",
       "      <td>0.727</td>\n",
       "      <td>0.667</td>\n",
       "      <td>0.857</td>\n",
       "      <td>0.909</td>\n",
       "      <td>0.571</td>\n",
       "      <td>0.706</td>\n",
       "      <td>0.957</td>\n",
       "      <td>1.000</td>\n",
       "      <td>0.615</td>\n",
       "      <td>0.250</td>\n",
       "      <td>0.709</td>\n",
       "    </tr>\n",
       "    <tr>\n",
       "      <th>110-4</th>\n",
       "      <td>0.690</td>\n",
       "      <td>0.762</td>\n",
       "      <td>0.870</td>\n",
       "      <td>0.667</td>\n",
       "      <td>0.533</td>\n",
       "      <td>0.857</td>\n",
       "      <td>0.947</td>\n",
       "      <td>0.889</td>\n",
       "      <td>0.857</td>\n",
       "      <td>0.824</td>\n",
       "      <td>0.400</td>\n",
       "      <td>0.754</td>\n",
       "    </tr>\n",
       "    <tr>\n",
       "      <th>110-5</th>\n",
       "      <td>0.667</td>\n",
       "      <td>0.700</td>\n",
       "      <td>0.800</td>\n",
       "      <td>0.632</td>\n",
       "      <td>0.824</td>\n",
       "      <td>0.952</td>\n",
       "      <td>0.842</td>\n",
       "      <td>0.842</td>\n",
       "      <td>0.952</td>\n",
       "      <td>0.750</td>\n",
       "      <td>0.444</td>\n",
       "      <td>0.764</td>\n",
       "    </tr>\n",
       "    <tr>\n",
       "      <th>110-6</th>\n",
       "      <td>0.640</td>\n",
       "      <td>0.800</td>\n",
       "      <td>0.870</td>\n",
       "      <td>0.833</td>\n",
       "      <td>0.778</td>\n",
       "      <td>1.000</td>\n",
       "      <td>0.947</td>\n",
       "      <td>1.000</td>\n",
       "      <td>1.000</td>\n",
       "      <td>0.588</td>\n",
       "      <td>0.429</td>\n",
       "      <td>0.808</td>\n",
       "    </tr>\n",
       "    <tr>\n",
       "      <th>Avg</th>\n",
       "      <td>0.672</td>\n",
       "      <td>0.786</td>\n",
       "      <td>0.763</td>\n",
       "      <td>0.767</td>\n",
       "      <td>0.752</td>\n",
       "      <td>0.877</td>\n",
       "      <td>0.883</td>\n",
       "      <td>0.897</td>\n",
       "      <td>0.935</td>\n",
       "      <td>0.736</td>\n",
       "      <td>0.516</td>\n",
       "      <td>0.780</td>\n",
       "    </tr>\n",
       "  </tbody>\n",
       "</table>\n",
       "</div>"
      ],
      "text/plain": [
       "       Access   Call  Frozen    GRM    GRS  Mobile  Network  Outlook  Rating  \\\n",
       "75-1    0.741  1.000   0.706  0.769  0.667   0.941    1.000    0.875   0.800   \n",
       "75-2    0.750  0.727   0.667  0.842  0.800   0.941    0.857    0.818   1.000   \n",
       "75-3    0.545  0.727   0.667  0.857  0.909   0.571    0.706    0.957   1.000   \n",
       "110-4   0.690  0.762   0.870  0.667  0.533   0.857    0.947    0.889   0.857   \n",
       "110-5   0.667  0.700   0.800  0.632  0.824   0.952    0.842    0.842   0.952   \n",
       "110-6   0.640  0.800   0.870  0.833  0.778   1.000    0.947    1.000   1.000   \n",
       "Avg     0.672  0.786   0.763  0.767  0.752   0.877    0.883    0.897   0.935   \n",
       "\n",
       "       Hardware   None    Avg  \n",
       "75-1      0.889  0.824  0.837  \n",
       "75-2      0.750  0.750  0.809  \n",
       "75-3      0.615  0.250  0.709  \n",
       "110-4     0.824  0.400  0.754  \n",
       "110-5     0.750  0.444  0.764  \n",
       "110-6     0.588  0.429  0.808  \n",
       "Avg       0.736  0.516  0.780  "
      ]
     },
     "metadata": {},
     "output_type": "display_data"
    },
    {
     "data": {
      "image/png": "[encoded data removed]",
      "text/plain": [
       "<Figure size 936x648 with 1 Axes>"
      ]
     },
     "metadata": {
      "needs_background": "light"
     },
     "output_type": "display_data"
    }
   ],
   "source": [
    "files = ['Batch_Tests/75-1.json', 'Batch_Tests/75-2.json', 'Batch_Tests/75-3.json']\n",
    "files += ['Batch_Tests/110-4.json', 'Batch_Tests/110-5.json', 'Batch_Tests/110-6.json']\n",
    "runBatchtests(files)"
   ]
  },
  {
   "cell_type": "code",
   "execution_count": 3,
   "metadata": {},
   "outputs": [
    {
     "data": {
      "text/plain": [
       "\"batchtest('Batch_Tests/75-1.json', verbose=False)\\nbatchtest('Batch_Tests/75-2.json', verbose=False)\\nbatchtest('Batch_Tests/75-3.json', verbose=False)\\nbatchtest('Batch_Tests/111-4.json', verbose=False)\\nbatchtest('Batch_Tests/110-5.json', verbose=False)\\nbatchtest('Batch_Tests/111-6.json', verbose=False)\\nbatchtest('training.json', verbose=False)\""
      ]
     },
     "execution_count": 3,
     "metadata": {},
     "output_type": "execute_result"
    }
   ],
   "source": [
    "'''batchtest('Batch_Tests/75-1.json', verbose=False)\n",
    "batchtest('Batch_Tests/75-2.json', verbose=False)\n",
    "batchtest('Batch_Tests/75-3.json', verbose=False)\n",
    "batchtest('Batch_Tests/111-4.json', verbose=False)\n",
    "batchtest('Batch_Tests/110-5.json', verbose=False)\n",
    "batchtest('Batch_Tests/111-6.json', verbose=False)\n",
    "batchtest('training.json', verbose=False)'''"
   ]
  },
  {
   "cell_type": "code",
   "execution_count": 4,
   "metadata": {},
   "outputs": [],
   "source": [
    "import rwjson\n",
    "import createtraining as ct"
   ]
  },
  {
   "cell_type": "code",
   "execution_count": 5,
   "metadata": {},
   "outputs": [
    {
     "data": {
      "text/plain": [
       "\"\\nTo Do:\\n*f-score calculations\\n*make Utterances class\\n*normalizations:\\n    stemming\\n    punctuation removal\\n*label None if None probability high enough (classification override)\\n*research decision_function vs predict vs predict_proba more https://scikit-learn.org/stable/modules/svm.html#scores-and-probabilities\\n*research vectorizers more, experiment w type and params\\n*runBatchtests function with pandas output\\n*matplotlib for runBatchtests\\nreview INCORRECTs and add to training data (not the verbatim tho that's cheating)\\n    make function in training.py to add newly labelled utterances to training.json\\npatterns\\npredictions json\\nentities https://docs.microsoft.com/en-us/azure/cognitive-services/luis/luis-concept-entity-types\\n    list entity\\n    regex entity\\n    prebuilt entity\\n    ML entity\\n\""
      ]
     },
     "execution_count": 5,
     "metadata": {},
     "output_type": "execute_result"
    }
   ],
   "source": [
    "'''\n",
    "To Do:\n",
    "*f-score calculations\n",
    "*make Utterances class\n",
    "*normalizations:\n",
    "    stemming\n",
    "    punctuation removal\n",
    "*label None if None probability high enough (classification override)\n",
    "*research decision_function vs predict vs predict_proba more https://scikit-learn.org/stable/modules/svm.html#scores-and-probabilities\n",
    "*research vectorizers more, experiment w type and params\n",
    "*runBatchtests function with pandas output\n",
    "*matplotlib for runBatchtests\n",
    "review INCORRECTs and add to training data (not the verbatim tho that's cheating)\n",
    "    make function in training.py to add newly labelled utterances to training.json\n",
    "patterns\n",
    "predictions json\n",
    "entities https://docs.microsoft.com/en-us/azure/cognitive-services/luis/luis-concept-entity-types\n",
    "    list entity\n",
    "    regex entity\n",
    "    prebuilt entity\n",
    "    ML entity\n",
    "'''"
   ]
  },
  {
   "cell_type": "code",
   "execution_count": 6,
   "metadata": {},
   "outputs": [
    {
     "data": {
      "text/plain": [
       "'\\nNotes:\\nI noticed something very weird. It seems that my classifier is not deterministic, as in sometimes it produces\\noutput that is slightly different (few percentage pts) from previous output. This is weird because in theory\\nSVM is a deterministic algorithm, there should be no randomness to it. Will investigate further later\\n'"
      ]
     },
     "execution_count": 6,
     "metadata": {},
     "output_type": "execute_result"
    }
   ],
   "source": [
    "'''\n",
    "Notes:\n",
    "I noticed something very weird. It seems that my classifier is not deterministic, as in sometimes it produces\n",
    "output that is slightly different (few percentage pts) from previous output. This is weird because in theory\n",
    "SVM is a deterministic algorithm, there should be no randomness to it. Will investigate further later\n",
    "'''"
   ]
  },
  {
   "cell_type": "code",
   "execution_count": 7,
   "metadata": {},
   "outputs": [
    {
     "data": {
      "text/plain": [
       "('Intent.GRMIssues', 0.22619819647546793)"
      ]
     },
     "execution_count": 7,
     "metadata": {},
     "output_type": "execute_result"
    }
   ],
   "source": [
    "ic.classify(ic.SVMpredict('need to change contact info'))"
   ]
  },
  {
   "cell_type": "code",
   "execution_count": 10,
   "metadata": {},
   "outputs": [
    {
     "name": "stdout",
     "output_type": "stream",
     "text": [
      "Balance of training.json:\n",
      "Access: 158\n",
      "CallQuality: 149\n",
      "FrozenLoading: 163\n",
      "GRM: 149\n",
      "GRS: 148\n",
      "MobileManagement: 172\n",
      "Network: 153\n",
      "Outlook: 152\n",
      "Rating: 136\n",
      "HardWare: 136\n",
      "None: 104\n",
      "\n",
      "\n",
      "Balance of Batch_Trains/batchtrain-1.json:\n",
      "Access: 42\n",
      "CallQuality: 38\n",
      "FrozenLoading: 41\n",
      "GRM: 38\n",
      "GRS: 42\n",
      "MobileManagement: 41\n",
      "Network: 42\n",
      "Outlook: 42\n",
      "Rating: 39\n",
      "HardWare: 42\n",
      "None: 14\n",
      "\n",
      "\n",
      "Balance of Batch_Trains/batchtrain-2.json:\n",
      "Access: 25\n",
      "CallQuality: 25\n",
      "FrozenLoading: 25\n",
      "GRM: 25\n",
      "GRS: 25\n",
      "MobileManagement: 25\n",
      "Network: 25\n",
      "Outlook: 25\n",
      "Rating: 25\n",
      "HardWare: 25\n",
      "None: 12\n",
      "\n",
      "\n"
     ]
    }
   ],
   "source": [
    "#ct.createTraining(r'C:\\Users\\n1555085\\Downloads\\powerbi_data.xlsx', 50)\n",
    "#rwjson.pushtrainingjson()\n",
    "#ct.cleanTraining()\n",
    "ct.balanceCorrectedTraining()\n",
    "\n",
    "ct.checkBalance('training.json')\n",
    "ct.checkBalance('Batch_Trains/batchtrain-1.json')\n",
    "ct.checkBalance('Batch_Trains/batchtrain-2.json')\n",
    "ct.checkBalance('newTraining.json')"
   ]
  },
  {
   "cell_type": "code",
   "execution_count": null,
   "metadata": {},
   "outputs": [],
   "source": []
  }
 ],
 "metadata": {
  "kernelspec": {
   "display_name": "Python 3",
   "language": "python",
   "name": "python3"
  },
  "language_info": {
   "codemirror_mode": {
    "name": "ipython",
    "version": 3
   },
   "file_extension": ".py",
   "mimetype": "text/x-python",
   "name": "python",
   "nbconvert_exporter": "python",
   "pygments_lexer": "ipython3",
   "version": "3.8.5"
  }
 },
 "nbformat": 4,
 "nbformat_minor": 4
}

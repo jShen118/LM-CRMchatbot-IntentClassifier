{
 "cells": [
  {
   "cell_type": "code",
   "execution_count": 1,
   "metadata": {},
   "outputs": [],
   "source": [
    "%run IntentClassifier.py\n",
    "%run batchtesting.py"
   ]
  },
  {
   "cell_type": "code",
   "execution_count": 2,
   "metadata": {},
   "outputs": [
    {
     "name": "stdout",
     "output_type": "stream",
     "text": [
      "BATCH TEST OF Batch_Tests/75-1.json\n",
      "75 Utterances. 42/75 56.0% Labeled Correctly\n",
      "F-Scores:\n",
      "  Intent.AccessIssues: 0.727\n",
      "  Intent.CallQualityIssues: 0.714\n",
      "  Intent.FrozenLoadingIssue: 0.615\n",
      "  Intent.GRMIssues: 0.4\n",
      "  Intent.GRSIssues: N/A (true positive of 0, cannot divide by 0)\n",
      "  Intent.MobileManagement: 0.889\n",
      "  Intent.NetworkIssues: N/A (true positive of 0, cannot divide by 0)\n",
      "  Intent.OutlookIssues: 0.8\n",
      "  Intent.RatingIssues: 1.0\n",
      "  Intent.HardWareIssues: 0.242\n",
      "  None: 0.5\n",
      "  Average: 0.6541111111111111\n",
      "\n",
      "\n",
      "\n",
      "BATCH TEST OF Batch_Tests/75-2.json\n",
      "75 Utterances. 39/75 52.0% Labeled Correctly\n",
      "F-Scores:\n",
      "  Intent.AccessIssues: 0.609\n",
      "  Intent.CallQualityIssues: 0.222\n",
      "  Intent.FrozenLoadingIssue: 0.8\n",
      "  Intent.GRMIssues: 0.625\n",
      "  Intent.GRSIssues: 0.4\n",
      "  Intent.MobileManagement: 0.875\n",
      "  Intent.NetworkIssues: 0.4\n",
      "  Intent.OutlookIssues: 0.632\n",
      "  Intent.RatingIssues: 0.889\n",
      "  Intent.HardWareIssues: 0.129\n",
      "  None: 0.286\n",
      "  Average: 0.5333636363636363\n",
      "\n",
      "\n",
      "\n",
      "BATCH TEST OF Batch_Tests/75-3.json\n",
      "75 Utterances. 34/75 45.33% Labeled Correctly\n",
      "F-Scores:\n",
      "  Intent.AccessIssues: 0.632\n",
      "  Intent.CallQualityIssues: 0.667\n",
      "  Intent.FrozenLoadingIssue: 0.364\n",
      "  Intent.GRMIssues: 0.4\n",
      "  Intent.GRSIssues: 0.333\n",
      "  Intent.MobileManagement: 0.571\n",
      "  Intent.NetworkIssues: 0.308\n",
      "  Intent.OutlookIssues: 0.8\n",
      "  Intent.RatingIssues: 1.0\n",
      "  Intent.HardWareIssues: 0.167\n",
      "  None: N/A (true positive of 0, cannot divide by 0)\n",
      "  Average: 0.5241999999999999\n",
      "\n",
      "\n",
      "\n"
     ]
    }
   ],
   "source": [
    "batchtest('Batch_Tests/75-1.json', verbose=False)\n",
    "batchtest('Batch_Tests/75-2.json', verbose=False)\n",
    "batchtest('Batch_Tests/75-3.json', verbose=False)"
   ]
  },
  {
   "cell_type": "code",
   "execution_count": null,
   "metadata": {},
   "outputs": [],
   "source": []
  },
  {
   "cell_type": "code",
   "execution_count": 3,
   "metadata": {},
   "outputs": [
    {
     "data": {
      "text/plain": [
       "\"\\nTo Do:\\n*f-score calculations\\n*make Utterances class\\n*normalizations:\\n    stemming\\n    punctuation removal\\n*label None if None probability high enough (classification override)\\n*research decision_function vs predict vs predict_proba more https://scikit-learn.org/stable/modules/svm.html#scores-and-probabilities\\nresearch vectorizers more, experiment w type and params\\nmake BatchTest class\\nbatchstests function with pandas output\\nreview INCORRECTs and add to training data (not the verbatim tho that's cheating)\\n    make function in training.py to add newly labelled utterances to training.json\\nentities https://docs.microsoft.com/en-us/azure/cognitive-services/luis/luis-concept-entity-types\\n    list entity\\n    regex entity\\n    prebuilt entity\\n    ML entity\\n\\ndid research on predict vs decision_function vs predict_proba, experimented with C and gamma \\n\""
      ]
     },
     "execution_count": 3,
     "metadata": {},
     "output_type": "execute_result"
    }
   ],
   "source": [
    "'''\n",
    "To Do:\n",
    "*f-score calculations\n",
    "*make Utterances class\n",
    "*normalizations:\n",
    "    stemming\n",
    "    punctuation removal\n",
    "*label None if None probability high enough (classification override)\n",
    "*research decision_function vs predict vs predict_proba more https://scikit-learn.org/stable/modules/svm.html#scores-and-probabilities\n",
    "research vectorizers more, experiment w type and params\n",
    "make BatchTest class\n",
    "batchstests function with pandas output\n",
    "review INCORRECTs and add to training data (not the verbatim tho that's cheating)\n",
    "    make function in training.py to add newly labelled utterances to training.json\n",
    "entities https://docs.microsoft.com/en-us/azure/cognitive-services/luis/luis-concept-entity-types\n",
    "    list entity\n",
    "    regex entity\n",
    "    prebuilt entity\n",
    "    ML entity\n",
    "\n",
    "did research on predict vs decision_function vs predict_proba, experimented with C and gamma \n",
    "'''"
   ]
  },
  {
   "cell_type": "code",
   "execution_count": null,
   "metadata": {},
   "outputs": [],
   "source": []
  }
 ],
 "metadata": {
  "kernelspec": {
   "display_name": "Python 3",
   "language": "python",
   "name": "python3"
  },
  "language_info": {
   "codemirror_mode": {
    "name": "ipython",
    "version": 3
   },
   "file_extension": ".py",
   "mimetype": "text/x-python",
   "name": "python",
   "nbconvert_exporter": "python",
   "pygments_lexer": "ipython3",
   "version": "3.8.5"
  }
 },
 "nbformat": 4,
 "nbformat_minor": 4
}

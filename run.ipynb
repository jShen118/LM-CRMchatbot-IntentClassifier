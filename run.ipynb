{
 "cells": [
  {
   "cell_type": "code",
   "execution_count": 1,
   "metadata": {},
   "outputs": [],
   "source": [
    "%run IntentClassifier.py\n",
    "%run batchtesting.py"
   ]
  },
  {
   "cell_type": "code",
   "execution_count": 2,
   "metadata": {},
   "outputs": [
    {
     "name": "stdout",
     "output_type": "stream",
     "text": [
      "BATCH TEST OF Batch_Tests/75-1.json\n",
      "75 Utterances. 48/75 64.0% Labeled Correctly\n",
      "F-Scores:\n",
      "  Intent.AccessIssues: 0.741\n",
      "  Intent.CallQualityIssues: 0.8\n",
      "  Intent.FrozenLoadingIssue: 0.37\n",
      "  Intent.GRMIssues: 0.769\n",
      "  Intent.GRSIssues: 1.0\n",
      "  Intent.MobileManagement: 0.842\n",
      "  Intent.NetworkIssues: 0.444\n",
      "  Intent.OutlookIssues: 0.8\n",
      "  Intent.RatingIssues: 1.0\n",
      "  Intent.HardWareIssues: 0.5\n",
      "  None: N/A (true positive of 0, cannot divide by 0)\n",
      "  Average: 0.7266\n",
      "\n",
      "\n",
      "\n",
      "BATCH TEST OF Batch_Tests/75-2.json\n",
      "75 Utterances. 49/75 65.33% Labeled Correctly\n",
      "F-Scores:\n",
      "  Intent.AccessIssues: 0.64\n",
      "  Intent.CallQualityIssues: 0.5\n",
      "  Intent.FrozenLoadingIssue: 0.353\n",
      "  Intent.GRMIssues: 0.778\n",
      "  Intent.GRSIssues: 0.75\n",
      "  Intent.MobileManagement: 0.875\n",
      "  Intent.NetworkIssues: 0.667\n",
      "  Intent.OutlookIssues: 0.87\n",
      "  Intent.RatingIssues: 0.8\n",
      "  Intent.HardWareIssues: 0.444\n",
      "  None: N/A (true positive of 0, cannot divide by 0)\n",
      "  Average: 0.6677\n",
      "\n",
      "\n",
      "\n",
      "BATCH TEST OF Batch_Tests/75-3.json\n",
      "75 Utterances. 42/75 56.0% Labeled Correctly\n",
      "F-Scores:\n",
      "  Intent.AccessIssues: 0.571\n",
      "  Intent.CallQualityIssues: 0.6\n",
      "  Intent.FrozenLoadingIssue: 0.2\n",
      "  Intent.GRMIssues: 0.842\n",
      "  Intent.GRSIssues: 0.571\n",
      "  Intent.MobileManagement: 0.571\n",
      "  Intent.NetworkIssues: 0.4\n",
      "  Intent.OutlookIssues: 0.857\n",
      "  Intent.RatingIssues: 0.8\n",
      "  Intent.HardWareIssues: 0.4\n",
      "  None: N/A (true positive of 0, cannot divide by 0)\n",
      "  Average: 0.5811999999999999\n",
      "\n",
      "\n",
      "\n"
     ]
    }
   ],
   "source": [
    "batchtest('Batch_Tests/75-1.json', 'rbf', verbose=False)\n",
    "batchtest('Batch_Tests/75-2.json', 'rbf', verbose=False)\n",
    "batchtest('Batch_Tests/75-3.json', 'rbf', verbose=False)"
   ]
  },
  {
   "cell_type": "code",
   "execution_count": null,
   "metadata": {},
   "outputs": [],
   "source": []
  },
  {
   "cell_type": "code",
   "execution_count": 3,
   "metadata": {},
   "outputs": [
    {
     "data": {
      "text/plain": [
       "\"\\nTo Do:\\n*f-score calculations\\nimplement classes\\nnormalizations:\\n    stemming\\n    punctuation removal - s.translate(str.maketrans('', '', string.punctuation))\\n    \\nNone hardcode label if max not high\\nbatchstests function with pandas output\\nreview INCORRECTs and add to training data\\n    make function in training.py to add newly labelled utterances to training.json\\n\\nentities https://docs.microsoft.com/en-us/azure/cognitive-services/luis/luis-concept-entity-types\\n    list entity\\n    regex entity\\n    prebuilt entity\\n    ML entity\\n\\n\""
      ]
     },
     "execution_count": 3,
     "metadata": {},
     "output_type": "execute_result"
    }
   ],
   "source": [
    "'''\n",
    "To Do:\n",
    "*f-score calculations\n",
    "*make Utterances class\n",
    "normalizations:\n",
    "    stemming\n",
    "    punctuation removal - s.translate(str.maketrans('', '', string.punctuation))\n",
    "None hardcode label if max not high\n",
    "make BatchTest class\n",
    "batchstests function with pandas output\n",
    "review INCORRECTs and add to training data\n",
    "    make function in training.py to add newly labelled utterances to training.json\n",
    "\n",
    "entities https://docs.microsoft.com/en-us/azure/cognitive-services/luis/luis-concept-entity-types\n",
    "    list entity\n",
    "    regex entity\n",
    "    prebuilt entity\n",
    "    ML entity\n",
    "\n",
    "'''"
   ]
  },
  {
   "cell_type": "code",
   "execution_count": null,
   "metadata": {},
   "outputs": [],
   "source": []
  }
 ],
 "metadata": {
  "kernelspec": {
   "display_name": "Python 3",
   "language": "python",
   "name": "python3"
  },
  "language_info": {
   "codemirror_mode": {
    "name": "ipython",
    "version": 3
   },
   "file_extension": ".py",
   "mimetype": "text/x-python",
   "name": "python",
   "nbconvert_exporter": "python",
   "pygments_lexer": "ipython3",
   "version": "3.8.5"
  }
 },
 "nbformat": 4,
 "nbformat_minor": 4
}

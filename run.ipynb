{
 "cells": [
  {
   "cell_type": "code",
   "execution_count": 1,
   "metadata": {},
   "outputs": [],
   "source": [
    "%run IntentClassifier.py\n",
    "%run batchtesting.py"
   ]
  },
  {
   "cell_type": "code",
   "execution_count": 2,
   "metadata": {},
   "outputs": [
    {
     "name": "stdout",
     "output_type": "stream",
     "text": [
      "BATCH TEST OF Batch_Tests/75-1.json\n",
      "75 Utterances. 55/75 73.33% Labeled Correctly\n",
      "F-Scores:\n",
      "  Intent.AccessIssues: 0.609\n",
      "  Intent.CallQualityIssues: 0.8\n",
      "  Intent.FrozenLoadingIssue: 0.471\n",
      "  Intent.GRMIssues: 0.769\n",
      "  Intent.GRSIssues: 1.0\n",
      "  Intent.MobileManagement: 0.842\n",
      "  Intent.NetworkIssues: 0.769\n",
      "  Intent.OutlookIssues: 0.75\n",
      "  Intent.RatingIssues: 1.0\n",
      "  Intent.HardWareIssues: 0.8\n",
      "  None: 0.75\n",
      "  Average: 0.7781818181818181\n",
      "\n",
      "\n",
      "\n",
      "BATCH TEST OF Batch_Tests/75-2.json\n",
      "75 Utterances. 52/75 69.33% Labeled Correctly\n",
      "F-Scores:\n",
      "  Intent.AccessIssues: 0.667\n",
      "  Intent.CallQualityIssues: 0.667\n",
      "  Intent.FrozenLoadingIssue: 0.571\n",
      "  Intent.GRMIssues: 0.625\n",
      "  Intent.GRSIssues: 0.857\n",
      "  Intent.MobileManagement: 0.875\n",
      "  Intent.NetworkIssues: 0.667\n",
      "  Intent.OutlookIssues: 0.87\n",
      "  Intent.RatingIssues: 0.889\n",
      "  Intent.HardWareIssues: 0.4\n",
      "  None: 0.444\n",
      "  Average: 0.6847272727272729\n",
      "\n",
      "\n",
      "\n",
      "BATCH TEST OF Batch_Tests/75-3.json\n",
      "75 Utterances. 48/75 64.0% Labeled Correctly\n",
      "F-Scores:\n",
      "  Intent.AccessIssues: 0.5\n",
      "  Intent.CallQualityIssues: 0.8\n",
      "  Intent.FrozenLoadingIssue: 0.308\n",
      "  Intent.GRMIssues: 0.842\n",
      "  Intent.GRSIssues: 0.667\n",
      "  Intent.MobileManagement: 0.667\n",
      "  Intent.NetworkIssues: 0.5\n",
      "  Intent.OutlookIssues: 0.857\n",
      "  Intent.RatingIssues: 0.889\n",
      "  Intent.HardWareIssues: 0.462\n",
      "  None: 0.571\n",
      "  Average: 0.642090909090909\n",
      "\n",
      "\n",
      "\n"
     ]
    }
   ],
   "source": [
    "batchtest('Batch_Tests/75-1.json', verbose=False)\n",
    "batchtest('Batch_Tests/75-2.json', verbose=False)\n",
    "batchtest('Batch_Tests/75-3.json', verbose=False)"
   ]
  },
  {
   "cell_type": "code",
   "execution_count": null,
   "metadata": {},
   "outputs": [],
   "source": []
  },
  {
   "cell_type": "code",
   "execution_count": 3,
   "metadata": {},
   "outputs": [
    {
     "data": {
      "text/plain": [
       "\"\\nTo Do:\\n*f-score calculations\\n*make Utterances class\\n*normalizations:\\n    stemming\\n    punctuation removal\\n*label None if None probability high enough (classification override)\\n*research decision_function vs predict vs predict_proba more https://scikit-learn.org/stable/modules/svm.html#scores-and-probabilities\\n*research vectorizers more, experiment w type and params\\nmake BatchTest class\\nbatchstests function with pandas output\\nreview INCORRECTs and add to training data (not the verbatim tho that's cheating)\\n    make function in training.py to add newly labelled utterances to training.json\\nentities https://docs.microsoft.com/en-us/azure/cognitive-services/luis/luis-concept-entity-types\\n    list entity\\n    regex entity\\n    prebuilt entity\\n    ML entity\\n\""
      ]
     },
     "execution_count": 3,
     "metadata": {},
     "output_type": "execute_result"
    }
   ],
   "source": [
    "'''\n",
    "To Do:\n",
    "*f-score calculations\n",
    "*make Utterances class\n",
    "*normalizations:\n",
    "    stemming\n",
    "    punctuation removal\n",
    "*label None if None probability high enough (classification override)\n",
    "*research decision_function vs predict vs predict_proba more https://scikit-learn.org/stable/modules/svm.html#scores-and-probabilities\n",
    "*research vectorizers more, experiment w type and params\n",
    "make BatchTest class\n",
    "batchstests function with pandas output\n",
    "review INCORRECTs and add to training data (not the verbatim tho that's cheating)\n",
    "    make function in training.py to add newly labelled utterances to training.json\n",
    "entities https://docs.microsoft.com/en-us/azure/cognitive-services/luis/luis-concept-entity-types\n",
    "    list entity\n",
    "    regex entity\n",
    "    prebuilt entity\n",
    "    ML entity\n",
    "'''"
   ]
  },
  {
   "cell_type": "code",
   "execution_count": null,
   "metadata": {},
   "outputs": [],
   "source": []
  }
 ],
 "metadata": {
  "kernelspec": {
   "display_name": "Python 3",
   "language": "python",
   "name": "python3"
  },
  "language_info": {
   "codemirror_mode": {
    "name": "ipython",
    "version": 3
   },
   "file_extension": ".py",
   "mimetype": "text/x-python",
   "name": "python",
   "nbconvert_exporter": "python",
   "pygments_lexer": "ipython3",
   "version": "3.8.5"
  }
 },
 "nbformat": 4,
 "nbformat_minor": 4
}

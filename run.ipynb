{
 "cells": [
  {
   "cell_type": "code",
   "execution_count": 58,
   "metadata": {},
   "outputs": [],
   "source": [
    "%run IntentClassifier.py\n",
    "%run batchtesting.py"
   ]
  },
  {
   "cell_type": "code",
   "execution_count": 69,
   "metadata": {},
   "outputs": [
    {
     "name": "stdout",
     "output_type": "stream",
     "text": [
      "75 Utterances. 54/75 72.0% Accuracy:\n",
      "\n",
      "75 Utterances. 51/75 68.0% Accuracy:\n",
      "\n",
      "75 Utterances. 46/75 61.33% Accuracy:\n",
      "\n"
     ]
    }
   ],
   "source": [
    "batchtest('Batch_Tests_jsons/75-1.json', 'linear', verbose=False)\n",
    "batchtest('Batch_Tests_jsons/75-2.json', 'linear', verbose=False)\n",
    "batchtest('Batch_Tests_jsons/75-3.json', 'linear', verbose=False)"
   ]
  },
  {
   "cell_type": "code",
   "execution_count": null,
   "metadata": {},
   "outputs": [],
   "source": []
  },
  {
   "cell_type": "code",
   "execution_count": null,
   "metadata": {},
   "outputs": [],
   "source": []
  }
 ],
 "metadata": {
  "kernelspec": {
   "display_name": "Python 3",
   "language": "python",
   "name": "python3"
  },
  "language_info": {
   "codemirror_mode": {
    "name": "ipython",
    "version": 3
   },
   "file_extension": ".py",
   "mimetype": "text/x-python",
   "name": "python",
   "nbconvert_exporter": "python",
   "pygments_lexer": "ipython3",
   "version": "3.8.5"
  }
 },
 "nbformat": 4,
 "nbformat_minor": 4
}

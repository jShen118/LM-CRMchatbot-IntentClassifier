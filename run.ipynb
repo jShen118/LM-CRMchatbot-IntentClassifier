{
 "cells": [
  {
   "cell_type": "code",
   "execution_count": 1,
   "metadata": {},
   "outputs": [],
   "source": [
    "%run IntentClassifier.py\n",
    "%run batchtesting.py"
   ]
  },
  {
   "cell_type": "code",
   "execution_count": 2,
   "metadata": {},
   "outputs": [
    {
     "data": {
      "text/html": [
       "<div>\n",
       "<style scoped>\n",
       "    .dataframe tbody tr th:only-of-type {\n",
       "        vertical-align: middle;\n",
       "    }\n",
       "\n",
       "    .dataframe tbody tr th {\n",
       "        vertical-align: top;\n",
       "    }\n",
       "\n",
       "    .dataframe thead th {\n",
       "        text-align: right;\n",
       "    }\n",
       "</style>\n",
       "<table border=\"1\" class=\"dataframe\">\n",
       "  <thead>\n",
       "    <tr style=\"text-align: right;\">\n",
       "      <th></th>\n",
       "      <th>Access</th>\n",
       "      <th>Call</th>\n",
       "      <th>Frozen</th>\n",
       "      <th>GRM</th>\n",
       "      <th>GRS</th>\n",
       "      <th>Mobile</th>\n",
       "      <th>Network</th>\n",
       "      <th>Outlook</th>\n",
       "      <th>Rating</th>\n",
       "      <th>Hardware</th>\n",
       "      <th>None</th>\n",
       "      <th>Avg</th>\n",
       "    </tr>\n",
       "  </thead>\n",
       "  <tbody>\n",
       "    <tr>\n",
       "      <th>75-1</th>\n",
       "      <td>0.741</td>\n",
       "      <td>1.000</td>\n",
       "      <td>0.706</td>\n",
       "      <td>0.769</td>\n",
       "      <td>0.667</td>\n",
       "      <td>0.941</td>\n",
       "      <td>1.000</td>\n",
       "      <td>0.875</td>\n",
       "      <td>0.800</td>\n",
       "      <td>0.889</td>\n",
       "      <td>0.824</td>\n",
       "      <td>0.837</td>\n",
       "    </tr>\n",
       "    <tr>\n",
       "      <th>75-2</th>\n",
       "      <td>0.750</td>\n",
       "      <td>0.727</td>\n",
       "      <td>0.667</td>\n",
       "      <td>0.842</td>\n",
       "      <td>0.800</td>\n",
       "      <td>0.941</td>\n",
       "      <td>0.857</td>\n",
       "      <td>0.818</td>\n",
       "      <td>1.000</td>\n",
       "      <td>0.750</td>\n",
       "      <td>0.750</td>\n",
       "      <td>0.809</td>\n",
       "    </tr>\n",
       "    <tr>\n",
       "      <th>75-3</th>\n",
       "      <td>0.545</td>\n",
       "      <td>0.727</td>\n",
       "      <td>0.667</td>\n",
       "      <td>0.857</td>\n",
       "      <td>0.909</td>\n",
       "      <td>0.571</td>\n",
       "      <td>0.706</td>\n",
       "      <td>0.957</td>\n",
       "      <td>1.000</td>\n",
       "      <td>0.615</td>\n",
       "      <td>0.250</td>\n",
       "      <td>0.709</td>\n",
       "    </tr>\n",
       "    <tr>\n",
       "      <th>110-4</th>\n",
       "      <td>0.690</td>\n",
       "      <td>0.762</td>\n",
       "      <td>0.870</td>\n",
       "      <td>0.667</td>\n",
       "      <td>0.533</td>\n",
       "      <td>0.857</td>\n",
       "      <td>0.947</td>\n",
       "      <td>0.889</td>\n",
       "      <td>0.857</td>\n",
       "      <td>0.824</td>\n",
       "      <td>0.400</td>\n",
       "      <td>0.754</td>\n",
       "    </tr>\n",
       "    <tr>\n",
       "      <th>110-5</th>\n",
       "      <td>0.667</td>\n",
       "      <td>0.700</td>\n",
       "      <td>0.800</td>\n",
       "      <td>0.632</td>\n",
       "      <td>0.824</td>\n",
       "      <td>0.952</td>\n",
       "      <td>0.842</td>\n",
       "      <td>0.842</td>\n",
       "      <td>0.952</td>\n",
       "      <td>0.750</td>\n",
       "      <td>0.444</td>\n",
       "      <td>0.764</td>\n",
       "    </tr>\n",
       "    <tr>\n",
       "      <th>110-6</th>\n",
       "      <td>0.640</td>\n",
       "      <td>0.800</td>\n",
       "      <td>0.870</td>\n",
       "      <td>0.833</td>\n",
       "      <td>0.778</td>\n",
       "      <td>1.000</td>\n",
       "      <td>0.947</td>\n",
       "      <td>1.000</td>\n",
       "      <td>1.000</td>\n",
       "      <td>0.588</td>\n",
       "      <td>0.429</td>\n",
       "      <td>0.808</td>\n",
       "    </tr>\n",
       "    <tr>\n",
       "      <th>Avg</th>\n",
       "      <td>0.672</td>\n",
       "      <td>0.786</td>\n",
       "      <td>0.763</td>\n",
       "      <td>0.767</td>\n",
       "      <td>0.752</td>\n",
       "      <td>0.877</td>\n",
       "      <td>0.883</td>\n",
       "      <td>0.897</td>\n",
       "      <td>0.935</td>\n",
       "      <td>0.736</td>\n",
       "      <td>0.516</td>\n",
       "      <td>0.780</td>\n",
       "    </tr>\n",
       "  </tbody>\n",
       "</table>\n",
       "</div>"
      ],
      "text/plain": [
       "       Access   Call  Frozen    GRM    GRS  Mobile  Network  Outlook  Rating  \\\n",
       "75-1    0.741  1.000   0.706  0.769  0.667   0.941    1.000    0.875   0.800   \n",
       "75-2    0.750  0.727   0.667  0.842  0.800   0.941    0.857    0.818   1.000   \n",
       "75-3    0.545  0.727   0.667  0.857  0.909   0.571    0.706    0.957   1.000   \n",
       "110-4   0.690  0.762   0.870  0.667  0.533   0.857    0.947    0.889   0.857   \n",
       "110-5   0.667  0.700   0.800  0.632  0.824   0.952    0.842    0.842   0.952   \n",
       "110-6   0.640  0.800   0.870  0.833  0.778   1.000    0.947    1.000   1.000   \n",
       "Avg     0.672  0.786   0.763  0.767  0.752   0.877    0.883    0.897   0.935   \n",
       "\n",
       "       Hardware   None    Avg  \n",
       "75-1      0.889  0.824  0.837  \n",
       "75-2      0.750  0.750  0.809  \n",
       "75-3      0.615  0.250  0.709  \n",
       "110-4     0.824  0.400  0.754  \n",
       "110-5     0.750  0.444  0.764  \n",
       "110-6     0.588  0.429  0.808  \n",
       "Avg       0.736  0.516  0.780  "
      ]
     },
     "metadata": {},
     "output_type": "display_data"
    },
    {
     "data": {
      "image/png": "[encoded data removed]",
      "text/plain": [
       "<Figure size 936x648 with 1 Axes>"
      ]
     },
     "metadata": {
      "needs_background": "light"
     },
     "output_type": "display_data"
    }
   ],
   "source": [
    "files = ['Batch_Tests/75-1.json', 'Batch_Tests/75-2.json', 'Batch_Tests/75-3.json']\n",
    "files += ['Batch_Tests/110-4.json', 'Batch_Tests/110-5.json', 'Batch_Tests/110-6.json']\n",
    "runBatchtests(files)"
   ]
  },
  {
   "cell_type": "code",
   "execution_count": 3,
   "metadata": {},
   "outputs": [
    {
     "data": {
      "text/plain": [
       "\"batchtest('Batch_Tests/75-1.json', verbose=False)\\nbatchtest('Batch_Tests/75-2.json', verbose=False)\\nbatchtest('Batch_Tests/75-3.json', verbose=False)\\nbatchtest('Batch_Tests/111-4.json', verbose=False)\\nbatchtest('Batch_Tests/110-5.json', verbose=False)\\nbatchtest('Batch_Tests/111-6.json', verbose=False)\\nbatchtest('training.json', verbose=False)\""
      ]
     },
     "execution_count": 3,
     "metadata": {},
     "output_type": "execute_result"
    }
   ],
   "source": [
    "'''batchtest('Batch_Tests/75-1.json', verbose=False)\n",
    "batchtest('Batch_Tests/75-2.json', verbose=False)\n",
    "batchtest('Batch_Tests/75-3.json', verbose=False)\n",
    "batchtest('Batch_Tests/111-4.json', verbose=False)\n",
    "batchtest('Batch_Tests/110-5.json', verbose=False)\n",
    "batchtest('Batch_Tests/111-6.json', verbose=False)\n",
    "batchtest('training.json', verbose=False)'''"
   ]
  },
  {
   "cell_type": "code",
   "execution_count": 4,
   "metadata": {},
   "outputs": [],
   "source": [
    "import rwjson\n",
    "import createtraining as ct"
   ]
  },
  {
   "cell_type": "code",
   "execution_count": 5,
   "metadata": {},
   "outputs": [
    {
     "data": {
      "text/plain": [
       "\"\\nTo Do:\\n*f-score calculations\\n*make Utterances class\\n*normalizations:\\n    stemming\\n    punctuation removal\\n*label None if None probability high enough (classification override)\\n*research decision_function vs predict vs predict_proba more https://scikit-learn.org/stable/modules/svm.html#scores-and-probabilities\\n*research vectorizers more, experiment w type and params\\n*runBatchtests function with pandas output\\n*matplotlib for runBatchtests\\nreview INCORRECTs and add to training data (not the verbatim tho that's cheating)\\n    make function in training.py to add newly labelled utterances to training.json\\npatterns\\npredictions json\\nentities https://docs.microsoft.com/en-us/azure/cognitive-services/luis/luis-concept-entity-types\\n    list entity\\n    regex entity\\n    prebuilt entity\\n    ML entity\\n\""
      ]
     },
     "execution_count": 5,
     "metadata": {},
     "output_type": "execute_result"
    }
   ],
   "source": [
    "'''\n",
    "To Do:\n",
    "*f-score calculations\n",
    "*make Utterances class\n",
    "*normalizations:\n",
    "    stemming\n",
    "    punctuation removal\n",
    "*label None if None probability high enough (classification override)\n",
    "*research decision_function vs predict vs predict_proba more https://scikit-learn.org/stable/modules/svm.html#scores-and-probabilities\n",
    "*research vectorizers more, experiment w type and params\n",
    "*runBatchtests function with pandas output\n",
    "*matplotlib for runBatchtests\n",
    "review INCORRECTs and add to training data (not the verbatim tho that's cheating)\n",
    "    make function in training.py to add newly labelled utterances to training.json\n",
    "patterns\n",
    "predictions json\n",
    "entities https://docs.microsoft.com/en-us/azure/cognitive-services/luis/luis-concept-entity-types\n",
    "    list entity\n",
    "    regex entity\n",
    "    prebuilt entity\n",
    "    ML entity\n",
    "'''"
   ]
  },
  {
   "cell_type": "code",
   "execution_count": 6,
   "metadata": {},
   "outputs": [
    {
     "data": {
      "text/plain": [
       "'\\nNotes:\\nI noticed something very weird. It seems that my classifier is not deterministic, as in sometimes it produces\\noutput that is slightly different (few percentage pts) from previous output. This is weird because in theory\\nSVM is a deterministic algorithm, there should be no randomness to it. Will investigate further later\\n'"
      ]
     },
     "execution_count": 6,
     "metadata": {},
     "output_type": "execute_result"
    }
   ],
   "source": [
    "'''\n",
    "Notes:\n",
    "I noticed something very weird. It seems that my classifier is not deterministic, as in sometimes it produces\n",
    "output that is slightly different (few percentage pts) from previous output. This is weird because in theory\n",
    "SVM is a deterministic algorithm, there should be no randomness to it. Will investigate further later\n",
    "'''"
   ]
  },
  {
   "cell_type": "code",
   "execution_count": 7,
   "metadata": {},
   "outputs": [
    {
     "data": {
      "text/plain": [
       "('Intent.GRMIssues', 0.2216420486261302)"
      ]
     },
     "execution_count": 7,
     "metadata": {},
     "output_type": "execute_result"
    }
   ],
   "source": [
    "ic.classify(ic.SVMpredict('need to change contact info'))"
   ]
  },
  {
   "cell_type": "code",
   "execution_count": 8,
   "metadata": {},
   "outputs": [
    {
     "name": "stdout",
     "output_type": "stream",
     "text": [
      "['legal files is frozen', 'setting up email on work cell phone', 'Good morning ', 'forgot a account password', 'jackbox games', 'Access to a BL report', \"don't know which version of apps to download\", 'ms teams is not working. not able to take calls on teams.', 'How do I set up dual monitors?', \"i'm having issues resetting my A account password\", 'Computer is locked and cannot log into it', \"I have a VM that I'm trying to open and the VM won't open.\", 'escalate prior ticket', 'Laptop is coming apart at the seams.', 'Outlook Folder', 'nice engage is freezing screen scrapes. confirmed this is not just me', 'i need an account in midway reset back to the all lines proposal task.', 'having issues with avaya', 'downloading new update', 'unable to test my token and successfully authenticate', 'My Outlook will not open', 'Looking for the directions of how to get set up on my iphone?', 'adding an additional mailbox to my outlook profile', 'Locked out of iphone', 'Cannot hear in teams meeting, everything shows correct device selected.', \"can't log into phone\", 'Request for Logitech G Hub for keyboard function', 'Unable to access claims in CVO after updating password', 'Been out for 3 months. Unable to log on to avaya', 'Unable to get to website for Legal Files', 'How to view past IT tickets.', 'cannot send emails from LMDocuments@libertymutual.com', 'New phone cannot log into Pingid', 'Printer not working', 'I need to order company phone, was looking for steps to place the order', 'Avaya set up', 'taking state test on secure browser', 'need access to this shared mailbox on my Outlook', \"my webpages weren't loading. how do I clear cookies?\", 'im trying to figure out how to get into navigator', 'CF not working', 'CSW keeps logging me out every few minutes.', 'my cell phone does not work with any liberty apps', 'iUnderwrite SLEO and LAW rating tools are not saving or rating', 'getting undeliverable message while sending mail from OrlandophysDammailbox', 'Cannot start VDI', 'rating system', 'cannot get pass Pulse & RSA', 'avaya issues', 'Good Afternoon', 'Need to approve RIT as I am covering for someone that is on leave', 'navigator showing rental error', 'Office 365, slow, Contacting Server Prompt on every e-mail, frustrating.', 'Unable to open docs in LF', 'vpn', 'I am having issue in VIA Navigator', 'I am unable to open documents in Watson.', 'on CSW, on cust search , i put a polic #or email & not getting any results', 'Password', \"Good morning team... My RSA token ID isn't working... \", 'vpn keeps disconnecting at random times', 'Not able to login genius', 'My outlook opens, but does not show new emails.  There is a red x', 'outlook Rule not working in shared mailbox', 'in iUW message says to contact the help desk.', 'Avaya not working after automatic pushed update', 'genius password reset', 'trouble updating IOS on my iphone', 'Outlook and Teams is disabled on mobileiron', 'My monitor flashes blank intermittently.', 'Call history on CSW shows virtually all numbers as unknown for name', 'why can i not make an external phone call', 'I am not able to access KCC', \"Can't see the EFT info on CBS\", 'AVAYA not connecting with Jabra headphone', 'Need to reload my PingID token on my cell phone after wiping it.', 'Unable to generate esignature documents', 'Unable to proceed with the required link in CMT', 'Need access to documents from a claim in retired workbench software', 'iphone locked', 'cannot access internal sites but external work fine', 'Update Midway hierarchy ', 'iuw error', 'Cannot connect to Pulse', 'need assist in reprogramming apps/email on iPhone', 'composite auto quote not pulling over into iuw', 'when i try to access the system it gives me an error message', 'iris will not open in any browser', 'Files via EDM will not open.', \"What's the IT phone number?\", 'Submit online request', 'CSW error', 'I need help clearing a ERAC ticket out of Navigator', 'For auto policies the ownership type is greyed out', 'None', 'I cannot get to the Rating Manager Crime Premium tab in iUnderwrite.', 'NMWB Access Request', 'I have a new issue', 'iphone password reset', 'Knowledge Center', 'unable to access a link', 'i am having issues signing into avaya', 'issues with crime rating', 'Company iphone Mobile Iron says not compliant', 'I am having trouble accessing quotes in CSW', 'Direct faxes not coming into my Microsoft Outlook', 'rating concerns', 'Triton is not working', \"people calling in can't hear me\", 'My computer is very slow and seems to have issues', 'Compass rating error', 'When I click on Salesforce CSW link I get the following', 'MobileIron Activation', 'i think my webcam is not working for me', 'want to change my e-mail and display name from daniel to dan', 'increase outlook mailbox size', 'email access', 'Can not back up phone to icloud', 'I cannot log into AVAYA Agent', 'I couldnt able to disable zscalar by giving my n number password,', 'Can zscaler work if my computer is accessing the internet via a hotspot?', 'errors with avaya causing calls to drop and istar to crash. ', \"My outlook won't let me click on microsoft teams meetings\", \"on myLiberty I don't have any data on the about me page\", 'COMPASS_Split composite rate', 'My Outlook messages will not send.  I clicked on updates earlier today.', 'I have to set up few shared email boxes', 'new computer setup problems', 'Help with accessing navigator online.', 'Getting CF error while updating mrtg info', 'avaya not logging in again', 'Account lock put for Pulse Secure', 'legal files is freezing up with pdfs', 'need navigator on my computer', 'I am getting a 400 error when trying to rate', 'outlook on company phone', 'I am trying to configure my BYOMD', 'I  need help with my outlook inbox screen view', 'voicemail password reset Also need to register account with N2uituve', 'Outlook calendar', 'How to store emails with attachments on MS Teams', 'I am trying to log into my Salesforce Im getting a single sign on error?', 'Unable to log in Avaya.', 'I am outside of the US (in Kenya) and I am having trouble accesing Citrix', 'I need assistance with getting the avaya agent on my start menu', 'My 1st monitor displaying everything really big', 'Can you get me a list of the LDAPs for some of my reps?', 'suspicious email', 'No Avaya access, I just returned from maternity leave', 'Outlook: Distribution Lists', 'jailbroken ios', \"Can't access rating\", 'phone call issues with MS Teams', 'Teams add in missing from outlook', 'I need the full access to Adobe', 'rating concerns', 'Video is not working on Zoom.', 'can you help me connect my computer to liberty mutual network', 'CBS problem', 'I am looking for a way to reset my Zscaler authentication expiration.', \"OUtlook not loading Today's emails\", 'LibertyMutualLasColinas@libertymutual.com', 'iUW - unable to generate documents', 'I need assistance', \"My computer's wifi is not working, but ethernet does.\", 'unable to send emails / update outlook', 'Access Denied on regular employee facing myLiberty pages.', 'having avaya issues as far as connectivity goes with it being intermittent ', 'Can I get help setting up my monitors? ', 'pm navigator archived claim', \"I can't launch to bolt platform from CSW for auto\", 'Add an employee to shared calendar in Outlook', 'Need permission with CCure and installing Microsoft teams', 'I need help generating TRIA forms on an account proposed Iunderwrite', 'Need to access or unable to Invoice.Processing.Portal mailbox folder', 'ez docs in navigator not working correctly', 'Why was my shipment cancelled', 'SAS is frozen', 'how do i set up docking station', 'myLiberty home page not connecting after zscaler implementation', 'I need to stop a computer installation now', 'Rules and alerts in my Outlook is not working', 'CSW is making me long in with every new call and not letting me in to custo', \"can't accept meetings, reply to emails\", 'I cannot link my outlook to our sharepoint calendar', '.  i am able to connect to avaya and istar, but am not receiving calls', 'Receiving an error as address_city is required.unable to rerate the policy', 'Need to open a ticket for POWER BI .. Information not loading', 'i am having trouble accessing a link sent to me in an email.', 'unable to view D & B report in Midway', 'Risk Control Workstation is not working.', 'i am not able to access certain systems.', 'My csw is not allowing me to transfer leads to my bolt system', 'Need to remove old Phone from PING on my A Account', 'I am not seeing any unread Outlook emails.', 'CSW launch fail. LM PMApplauncher is not running and will not let me sign i', \"token and completed several test and I'm not getting it on my phone\", \"CSW won't open from Salesforce\", 'iUnderwrite unable to generate documents for signature', 'CSW not staying logged in during calls', \"i can't create a house hold in csw\", 'Help setting up VPN/ myToken', 'I am having trouble with signing into Trition', 'Account is locked, unable to gain internet access', \"Microsoft Outlook is giving an error 'Not Implemented.'\", 'USB Ethernet adapter stopped working', \"! i'm having trouble signing into pulse secure\", 'Trying to connect second monitor', 'i have an issue trying to logging into my vde', 'unlock Iphone', 'am facing issues while turning off the zscalar', 'CSW is not working', 'Got validation error while rating the premium in change policy screen', 'cannot access Myliberty website', 'Replacement laptop will not let me sign in', 'I cannot access SAles Force', 'delete uh', 'I would like to have access to Microsoft Teams on my phone app', 'Digital signature required', 'Issues w/ Avaya', 'odd icon showing up on task bar after running updates and restarting', 'I cannot sign on to Pulse, It says account locked out.', 'i am unable to log into istar', 'i need help getting a new rsa token', 'Legal Files access issues', 'unable to access CEP', 'Unable to access website', 'Genius Password Reset', 'How do I update my expired cached credentials on word', \"I don't have access to the New Business Recode\", 'Setting up new device and need to install VIA', 'I am trying to sign in to Avaya and I am getting an error that says my', 'How to properly download Putty', 'Reset a First time password', 'Privacy error trying to log into agent webstation', 'I am unable to access: https://globalclearance.lmig.com/search/Search.aspx', 'ECM is not being installed', 'Unable to log in to Istar', 'istar stuck in available may be aux 0', 'My system gets hanged after every teams meeting', 'Nice engage playback failed', 'ROD  is not recording and reporting to NICE', 'Audio issue , Not able to hear anything', \"Customers or team members can't hear me through headset\", \"I'm having issues with my headset; Callers are sounding low and muffled.\", 'headset sound issues', 'can call out on avaya, but hear no sound. COnfirmed LL has not had upgrade', 'triton phone is not ringing through the speakers', 'VDI is not starting', 'InView not loading', 'MyAssets returns a 400 error and will not load', 'MSB tool not loading', 'Via is down? I am getting all red and it says it is under maintenance', 'my citrix Excel keeps crashing', 'libertyvirtualcloud is not loading', 'EID login not loading ', 'doczilla not loading', 'intradiem not loading', 'I am having latency issues with my mouse or keyboard freezing', 'Unable to delete vehicle in renewal due to Error Code: 400 Error Message', 'Claims handling Reassignment errors in Navigator', 'Unable to add vehicle in liability policy due to Assertion error', 'Transaction stuck in SU status for AOV-281-711254-40', 'One transaction mistakenly voided in one Auto policy in CSW', 'In-Process Transaction', 'I am getting another error quoting new business.', 'Compass: Amended Named Insured at Customer Level', 'Issue with ESSBASE cube - GAAP and CORP SR', 'ESSBASE cube - GAAP and CORP SR not visible after getting the access', 'Alfresco plugin has been disabled', 'unable to query edw in dbvis', 'Trying to generate auto forms in iUW for quote A7285949.1 it gives error', 'Unable to edit items in iUW to allow downloading', 'Iunderwrite opportunity not pulling open', 'I am not able to access Nualp or NMWB', 'Clipper is stuck in sent to market is there a ticket open', \"I recd an update for Jabra but my system won't let it process.\", 'new computer trying to add printer cannon IP 100 and its not finding it', 'VDI is slow.. need additional ram or CPU', 'Disk Space', 'Need to increase space in my system', 'set up third monitor', 'Connect to a printer work from home', 'Computer speakers are no longer working', 'trying to find a desktop printer that is liberty compatible and available', 'Need help setting printer while working from home', 'Do I have a work phone number?', 'Removing old phone (no longer in possession) from PingID authentication', 'how do i transfer my phone number to my company issued replacement iphone?', 'setting up email on iphone', 'iPhone locked out after password update. domain unverified', 'Need assistance on setting up apps/outlook on company iphone', 'email access on phone', 'Logging into Team on my iPhone', '! i need help with microsoft teams on my iphone.', 'triton phone download', 'PingID for new phone', 'username is incorrect to set-up 2 factor via https://aka.ms/mfasetup', 'i need to activate a new mifi', 'VPN or internet seem to cut out constantly', 'SAS unable to connect to metaserver', 'my internet connection has dropped multiple times today', 'SAS server not connecting', 'not able to connect https://cmmsu.lmig.com/cm-sfdc', 'WFH no access to browser based resources. Auth is zScaler', \"Pulse VPN 2FA doesn't work\", 'still unable to connect to VPN ', 'Need help with RSA Token. Got a new laptop', \"RightFax setup. I'm a new hire.\", 'I am trying to figure out a teams channel that was deleted', 'Word doc in LF not generating the email', 'Creating a rule in a shared outlook mailbox', \"Getting a code that won't let me email from legal files\", 'Would like to update my email to match Teams', 'i am trying to add outlook mailboxes for a new contractor', '.  i need to add a user to several generic outlook accounts.', 'getting error messages cannot expand mailboxe that were added to my outlook', 'My Outlook is not allowing me to send emails', 'if i may request assistance in setting up my generic mailbox in outlook', 'iUnderwrite premium discrepancy with rating system', 'Unable to rerate a veh add quote in CFE', \"Can't access rating\", 'Clipper Quote/contract rating errors - Rating Failed error', 'Compass Rating Error', \"Compass rating isn't pull all the premium though to iUW\", 'Crime rating in iUW error', 'Getting error while rerating the policy', 'Got validation error while rating the premium in change policy screen', 'I am having an issue with the Compass Rating views in iUnderwrite', 'delete uh', 'CCC not wokring', 'I am not able to import AMFCON 92 updated file in my existing MS Access', 'I need assistance with changing a new hire position in People.', 'Please restart my VDI machine', 'facing issue with power bi service', 'Issues with NICE ROD', 'Cyberark access blocked', 'Cannot access Field Legal Office Locator', \"Teams isn't opening\", 'I need to request access to NetDocuments - casualty cabinet', 'issues accessing shared email costco_FROI_reports', \"I'm having systems issues - EPIC - receiving error messages and crashing \", 'I can not log onto LF.', 'need help as ezmail does not allow me access', 'I am having an issue with an agent accessing a Simple BOP quote', \"I'm unable to access NUALP to be able to do my pricing.\", 'The Roadside Assistance Phone number is disconnecting callers.', 'My phone keeps muting', 'i cant get me headphones to work', 'Avaya phone system not working properly', 'I am not getting calls in my headset', 'I am unable to access express or triton', 'Calls through MS Teams', 'receiving Istar communication error', \"Customers or team members can't hear me through headset\", 'Application -  I am not able to upload files in doczilla', \"RiskMeter won't load in Chrome.\", 'Jave Platform 8 failed to load', 'Need help with Zscaler accessing time management page as it is not loading', 'NICE agent not showing', 'Trying to email quotes but it keeps saying processing', 'i am facing issue with system slowness and freezing', 'InView will not load', 'videos wont load, ', 'DMS loading to a white page.', 'Microsoft Teams will not load', 'I would like to set up click to dial in Lumen', 'UNABLE TO SUB VEHICLE', 'I am unable to access EDM within a claim file in VIA.', 'Delete documents from Policy View', 'Policy not found in CSW-AON26197931340', 'need to discuss policy cancellations', 'Good morning! I cant get my CBS to load?', 'Unable to substitute vehicle in liability policy due to Assertion Error', 'Log in required multiple times for cbs', 'Navigator claims software will not allow me to view the EZ docs in the file', 'Error in CSW transaction tab showing Null', 'cannot log into cbs', 'Silence computer sounds when using CFE', 'iUnderwrite unable to produce a quote', 'update eff date in midway', 'SPN in NMWB is getting loss billing error', 'My name is not listed for the active task in Midway', 'Department code 12707 needs access to iUW pricing dashboard ASAP.', 'iUW Premium Estimator says Service Not available.', \"Can't access iUnderwrite opportunity search box\", 'Midway - Completed the Proposal Task, but Resolve Status did not generate', 'Compass and Clipper Send to Market is not working', 'Clipper quote stuck sending to market', 'my printer is offline since moving from zscaler to Pulse....', 'My desktop printer is offline and I cannot connect it.', 'Help with setting up printer', 'I cannot get my wireless mouse to reconnect', 'Need help procuring portable monitor cord', 'bubbles on monitor, need touch screen disabled', 'webcam not working in zoom or microsoft teams', 'my keyboard randomly stops working', \"Jabra Headset won't connect AGAIN\", 'built-in laptop camera is not detected', 'I need assistance with my new iphone.', 'Teams and myexpense not working on my iphone.', 'I am unable to transfer photos to my computer from my phone', 'Can I add MS Teams to my personal cell phone?', 'im trying to set up my email on my new work phone', 'locked out of my work iphone', 'MS Teams not logging in on my iPhone', 'Report lost cell phones', 'need a new byod pin sent to set up mobileiron', 'reset cell phone password', '- trying to reset my token- cannot get into vpn', 'cannot get rsa token to open up on screen', 'I have new computer and trying to set it up. RSA token need activation code', 'RSA Token codes are not working with Pulse Secure this morning', 'Keep losing internet connection', 'wifi dns issue', 'Connectivity issues with zscaler. Would like to setup Pulse Secure.', 'VDI Connectivity Issue', 'I am locked out of pulse secure', 'if i may request assistance in setting up my generic mailbox in outlook', \"Reviewing termed EE's emails in Outlook but folder will not expand\", 'pasted information into outlook the font size is too small and unreadable', \"I have email accounts in my outlook that i don't want/need anymore\", 'Login issues and Outlook crash', 'Add members to outlook exchange account BI_Learning_Services', 'Search button disappeared in outlook. Trying to cearch in current mailbox', 'My outlook keeps asking me for my password.', 'link received from outlook email to download documents', 'I am rerating a policy and getting a huge error message I cannot bypass', 'I need a level two help desk for a rating error', 'issues with crime rating', 'issues with rating on policy productions', 'iUnderwrite experience rating calculation not calculating', 'iunderwrite rating summary issues', 'iUW Exp Rating - not calculating', 'iUW Rating Exports not showing all Coverages as the rating systems', 'policy rating issue in PCT after removing driver and two cars', 'rating concerns', 'Is nice down?', 'not getting fax confirmations', 'cannot change delivery address on buysmart', 'Hotlr does not have my name for reservations for return to office', 'how long is first-time password usable?', 'are we allowed to download paint.net.. if not is there a similar program?', 'follow up', 'bolt google chrome', 'i am trying to log into edi so i can sign into exprs', 'avaya locked me out', 'unable to gain access to links included in onboarding documents ', 'I am unable to access Avaya Phone Agent.', 'need N# for new employee', 'SAS EG ; Public user is lacking basic authentication to continue', 'Issues logging in Avaya', 'my avaya will not log on', 'unable to log ROD calls', \"Customer can't hear me on phone calls\", 'No audio on incoming calls ', 'need help with nice engage', 'Unable to make outbound calls with avaya', 'outside phone calls are not working.', 'Avaya Agent for Desktop keeps having issues mid call and disconnecting', 'Cannot place calls from avaya/istar', 'Static and drops in phone calls', 'VDI slowness', 'need to kill sas', 'Teams desktop app will not launch on computer.', \"OFFICE ^ - My microsoft applications won't open.\", 'i am facing issue with system slowness and freezing', 'InView will not load', 'videos wont load, ', 'ExPRS is loading', 'newly downloaded acrobat not opening files', 'Remedy page is not loading', \"I can't get a page I need for training to load\", 'Salesforce gives error when opening CSW. Error 127.0.0.1', 'Navigator - Missing injury details', 'i am in training and having trouble getting logged into csw for claims', 'Unable to access reinstate tab in csw', 'Unable to delete vehicle in liability policy due to Assertion Error', \"Policy Forms Viewer isn't working, it gives a timed out error message\", 'hi, is it possible to get my cmt pw reset?', 'internal service error in CMT', 'error message in cmt', 'Navigator - Create new document TLP not showing', 'bind error', 'Need help generating WCPA score in NUALP', 'Proposal not generating in offer tab in iuw', 'close outdated task in Midway', 'an MVR will not pull on a driver and I have the right information', 'iUW Premium Estimator says Service Not available.', 'iUW not calculating MODs', 'clipper not functioning', '- i am receiving an error message when trying to complete a crime quote', 'i am unable to download 2 files in nmwb idm', 'Need producer number in Midway changed due to a producer house termination', 'good afternoon. i am having an issue with my printer. It will not print.', 'Can you approve a software download for my new mouse and keyboard?', 'My mouse keeps jumping around.', 'turn off my monitors, all items shift to other monitor', 'i cannot get my webcam to work in microsoft teams or zoom', \"webcam STILL not working, haven't heard back 5 day SLA\", \"Varius keys on keyboard aren't working\", 'Plantronics headset wont connect to PC', 'I think my headset needs to be updated', 'laptop buckling/swelling', 'I am trying to upload MobileIron on my phone and am having trouble', 'forgot my iphone passcode', 'I recently got a new phone and can no longer authenticate with Ping.', 'forgot password to iphone', 'I am not able to access my email on my cell phone and have the BYOD set up.', 'Issues downloading outlook as part of the BYOD program on my apple device', 'Need to add token to phone', 'i need my new phone number updated and my old number deleted', 'teams on mobile phone', 'got a new work phone and need to install mobile iron?', 'my VPN is not working', 'I cannot log into Pulse vpn', 'rsa token not woring', 'error when connecting via pulse secure with RSA', 'Internet does not work on work laptop. windows says the issue is in the DNS', 'i am having issues with getting my wifi to work on work laptop.', 'VPN not working', 'RSA token off screen', 'Avaya connectivity quality issue', 'I am trying to login in to the two-way mfa authenticator', 'locked out of pulse secure', 'I am Unable to connect to Pulse Secured.', 'created new mailbox: PropCoverageTool and it is not showing up in outlook', 'i cant accesss the folders that i created in outlook', 'outlook is offline', 'Assigning Retention policy - this option is not populating in outlook.', 'Received new laptop, not all of my email boxes are showing up in Outlook.', 'Outlook archived folders are not showing', 'I am working remote. getting a message from Outlook saying working offline', 'i need more storage space in outlook', 'my ezmail is not working ', 'Cannot install EZ mail', 'rating concerns', 'Rating is getting error message when accessing work tasks', 'iUW Rating Exports not showing all Coverages as the rating systems', 'rerating a policy and need correct first year', 'unable to attach Auto rating in NUALP', 'Unable to substitute vehicle receiving error while rating', 'ABT-291-748056-40-Unable to substitute vehicle receiving error', 'cannot bind rerate policy', 'Compass failing to rate contract', 'im unable to rate the policy', 'checking status of INC000010333134', ' I am having issues with this file 045943665.', \"i'm trying to get assistance with onboarding several new hires.\", \"the article actually didn't work\", 'IT phone number', 'testing test tester', 'my wallboard is not displaying.', 'DEPLOYMENT - SQL Server driver install keeps failing', 'can you confirm the most up to data Java we need']\n"
     ]
    }
   ],
   "source": [
    "#ct.createTraining(r'C:\\Users\\n1555085\\Downloads\\powerbi_data.xlsx', 50)\n",
    "#ct.balanceCorrectedTraining()\n",
    "#rwjson.pushtrainingjson()\n",
    "ct.cleanTraining()"
   ]
  },
  {
   "cell_type": "code",
   "execution_count": null,
   "metadata": {},
   "outputs": [],
   "source": []
  }
 ],
 "metadata": {
  "kernelspec": {
   "display_name": "Python 3",
   "language": "python",
   "name": "python3"
  },
  "language_info": {
   "codemirror_mode": {
    "name": "ipython",
    "version": 3
   },
   "file_extension": ".py",
   "mimetype": "text/x-python",
   "name": "python",
   "nbconvert_exporter": "python",
   "pygments_lexer": "ipython3",
   "version": "3.8.5"
  }
 },
 "nbformat": 4,
 "nbformat_minor": 4
}

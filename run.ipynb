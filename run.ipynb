{
 "cells": [
  {
   "cell_type": "code",
   "execution_count": 1,
   "metadata": {},
   "outputs": [],
   "source": [
    "%run IntentClassifier.py\n",
    "%run batchtesting.py"
   ]
  },
  {
   "cell_type": "code",
   "execution_count": 2,
   "metadata": {},
   "outputs": [
    {
     "data": {
      "text/html": [
       "<div>\n",
       "<style scoped>\n",
       "    .dataframe tbody tr th:only-of-type {\n",
       "        vertical-align: middle;\n",
       "    }\n",
       "\n",
       "    .dataframe tbody tr th {\n",
       "        vertical-align: top;\n",
       "    }\n",
       "\n",
       "    .dataframe thead th {\n",
       "        text-align: right;\n",
       "    }\n",
       "</style>\n",
       "<table border=\"1\" class=\"dataframe\">\n",
       "  <thead>\n",
       "    <tr style=\"text-align: right;\">\n",
       "      <th></th>\n",
       "      <th>Access</th>\n",
       "      <th>Call</th>\n",
       "      <th>Frozen</th>\n",
       "      <th>GRM</th>\n",
       "      <th>GRS</th>\n",
       "      <th>Mobile</th>\n",
       "      <th>Network</th>\n",
       "      <th>Outlook</th>\n",
       "      <th>Rating</th>\n",
       "      <th>Hardware</th>\n",
       "      <th>None</th>\n",
       "      <th>Avg</th>\n",
       "    </tr>\n",
       "  </thead>\n",
       "  <tbody>\n",
       "    <tr>\n",
       "      <th>75-1</th>\n",
       "      <td>0.769</td>\n",
       "      <td>1.000</td>\n",
       "      <td>0.706</td>\n",
       "      <td>0.714</td>\n",
       "      <td>0.667</td>\n",
       "      <td>0.941</td>\n",
       "      <td>1.000</td>\n",
       "      <td>0.875</td>\n",
       "      <td>0.800</td>\n",
       "      <td>0.889</td>\n",
       "      <td>0.824</td>\n",
       "      <td>0.835</td>\n",
       "    </tr>\n",
       "    <tr>\n",
       "      <th>75-2</th>\n",
       "      <td>0.750</td>\n",
       "      <td>0.727</td>\n",
       "      <td>0.800</td>\n",
       "      <td>0.842</td>\n",
       "      <td>0.800</td>\n",
       "      <td>0.941</td>\n",
       "      <td>0.857</td>\n",
       "      <td>0.818</td>\n",
       "      <td>1.000</td>\n",
       "      <td>0.857</td>\n",
       "      <td>0.750</td>\n",
       "      <td>0.831</td>\n",
       "    </tr>\n",
       "    <tr>\n",
       "      <th>75-3</th>\n",
       "      <td>0.545</td>\n",
       "      <td>0.727</td>\n",
       "      <td>0.600</td>\n",
       "      <td>0.857</td>\n",
       "      <td>0.909</td>\n",
       "      <td>0.571</td>\n",
       "      <td>0.706</td>\n",
       "      <td>0.957</td>\n",
       "      <td>0.857</td>\n",
       "      <td>0.615</td>\n",
       "      <td>0.250</td>\n",
       "      <td>0.690</td>\n",
       "    </tr>\n",
       "    <tr>\n",
       "      <th>110-4</th>\n",
       "      <td>0.667</td>\n",
       "      <td>0.800</td>\n",
       "      <td>0.870</td>\n",
       "      <td>0.600</td>\n",
       "      <td>0.533</td>\n",
       "      <td>0.909</td>\n",
       "      <td>0.947</td>\n",
       "      <td>0.889</td>\n",
       "      <td>0.762</td>\n",
       "      <td>0.824</td>\n",
       "      <td>0.400</td>\n",
       "      <td>0.746</td>\n",
       "    </tr>\n",
       "    <tr>\n",
       "      <th>110-5</th>\n",
       "      <td>0.690</td>\n",
       "      <td>0.700</td>\n",
       "      <td>0.842</td>\n",
       "      <td>0.600</td>\n",
       "      <td>0.824</td>\n",
       "      <td>0.952</td>\n",
       "      <td>0.842</td>\n",
       "      <td>0.842</td>\n",
       "      <td>0.952</td>\n",
       "      <td>0.824</td>\n",
       "      <td>0.444</td>\n",
       "      <td>0.774</td>\n",
       "    </tr>\n",
       "    <tr>\n",
       "      <th>110-6</th>\n",
       "      <td>0.640</td>\n",
       "      <td>0.800</td>\n",
       "      <td>0.870</td>\n",
       "      <td>0.750</td>\n",
       "      <td>0.706</td>\n",
       "      <td>1.000</td>\n",
       "      <td>0.947</td>\n",
       "      <td>1.000</td>\n",
       "      <td>0.952</td>\n",
       "      <td>0.667</td>\n",
       "      <td>0.462</td>\n",
       "      <td>0.799</td>\n",
       "    </tr>\n",
       "    <tr>\n",
       "      <th>Avg</th>\n",
       "      <td>0.677</td>\n",
       "      <td>0.792</td>\n",
       "      <td>0.781</td>\n",
       "      <td>0.727</td>\n",
       "      <td>0.740</td>\n",
       "      <td>0.886</td>\n",
       "      <td>0.883</td>\n",
       "      <td>0.897</td>\n",
       "      <td>0.887</td>\n",
       "      <td>0.779</td>\n",
       "      <td>0.522</td>\n",
       "      <td>0.779</td>\n",
       "    </tr>\n",
       "  </tbody>\n",
       "</table>\n",
       "</div>"
      ],
      "text/plain": [
       "       Access   Call  Frozen    GRM    GRS  Mobile  Network  Outlook  Rating  \\\n",
       "75-1    0.769  1.000   0.706  0.714  0.667   0.941    1.000    0.875   0.800   \n",
       "75-2    0.750  0.727   0.800  0.842  0.800   0.941    0.857    0.818   1.000   \n",
       "75-3    0.545  0.727   0.600  0.857  0.909   0.571    0.706    0.957   0.857   \n",
       "110-4   0.667  0.800   0.870  0.600  0.533   0.909    0.947    0.889   0.762   \n",
       "110-5   0.690  0.700   0.842  0.600  0.824   0.952    0.842    0.842   0.952   \n",
       "110-6   0.640  0.800   0.870  0.750  0.706   1.000    0.947    1.000   0.952   \n",
       "Avg     0.677  0.792   0.781  0.727  0.740   0.886    0.883    0.897   0.887   \n",
       "\n",
       "       Hardware   None    Avg  \n",
       "75-1      0.889  0.824  0.835  \n",
       "75-2      0.857  0.750  0.831  \n",
       "75-3      0.615  0.250  0.690  \n",
       "110-4     0.824  0.400  0.746  \n",
       "110-5     0.824  0.444  0.774  \n",
       "110-6     0.667  0.462  0.799  \n",
       "Avg       0.779  0.522  0.779  "
      ]
     },
     "metadata": {},
     "output_type": "display_data"
    },
    {
     "data": {
      "image/png": "[encoded data removed]",
      "text/plain": [
       "<Figure size 936x648 with 1 Axes>"
      ]
     },
     "metadata": {
      "needs_background": "light"
     },
     "output_type": "display_data"
    }
   ],
   "source": [
    "files = ['Batch_Tests/75-1.json', 'Batch_Tests/75-2.json', 'Batch_Tests/75-3.json']\n",
    "files += ['Batch_Tests/110-4.json', 'Batch_Tests/110-5.json', 'Batch_Tests/110-6.json']\n",
    "runBatchtests(files)"
   ]
  },
  {
   "cell_type": "code",
   "execution_count": 3,
   "metadata": {},
   "outputs": [
    {
     "data": {
      "text/plain": [
       "\"batchtest('Batch_Tests/75-1.json', verbose=False)\\nbatchtest('Batch_Tests/75-2.json', verbose=False)\\nbatchtest('Batch_Tests/75-3.json', verbose=False)\\nbatchtest('Batch_Tests/111-4.json', verbose=False)\\nbatchtest('Batch_Tests/110-5.json', verbose=False)\\nbatchtest('Batch_Tests/111-6.json', verbose=False)\\nbatchtest('training.json', verbose=False)\""
      ]
     },
     "execution_count": 3,
     "metadata": {},
     "output_type": "execute_result"
    }
   ],
   "source": [
    "'''batchtest('Batch_Tests/75-1.json', verbose=False)\n",
    "batchtest('Batch_Tests/75-2.json', verbose=False)\n",
    "batchtest('Batch_Tests/75-3.json', verbose=False)\n",
    "batchtest('Batch_Tests/111-4.json', verbose=False)\n",
    "batchtest('Batch_Tests/110-5.json', verbose=False)\n",
    "batchtest('Batch_Tests/111-6.json', verbose=False)\n",
    "batchtest('training.json', verbose=False)'''"
   ]
  },
  {
   "cell_type": "code",
   "execution_count": 4,
   "metadata": {},
   "outputs": [],
   "source": [
    "import rwjson\n",
    "import createtraining as ct"
   ]
  },
  {
   "cell_type": "code",
   "execution_count": 5,
   "metadata": {},
   "outputs": [
    {
     "data": {
      "text/plain": [
       "\"\\nTo Do:\\n*f-score calculations\\n*make Utterances class\\n*normalizations:\\n    stemming\\n    punctuation removal\\n*label None if None probability high enough (classification override)\\n*research decision_function vs predict vs predict_proba more https://scikit-learn.org/stable/modules/svm.html#scores-and-probabilities\\n*research vectorizers more, experiment w type and params\\n*runBatchtests function with pandas output\\n*matplotlib for runBatchtests\\nreview INCORRECTs and add to training data (not the verbatim tho that's cheating)\\n    make function in training.py to add newly labelled utterances to training.json\\npatterns\\npredictions json\\nentities https://docs.microsoft.com/en-us/azure/cognitive-services/luis/luis-concept-entity-types\\n    list entity\\n    regex entity\\n    prebuilt entity\\n    ML entity\\n\""
      ]
     },
     "execution_count": 5,
     "metadata": {},
     "output_type": "execute_result"
    }
   ],
   "source": [
    "'''\n",
    "To Do:\n",
    "*f-score calculations\n",
    "*make Utterances class\n",
    "*normalizations:\n",
    "    stemming\n",
    "    punctuation removal\n",
    "*label None if None probability high enough (classification override)\n",
    "*research decision_function vs predict vs predict_proba more https://scikit-learn.org/stable/modules/svm.html#scores-and-probabilities\n",
    "*research vectorizers more, experiment w type and params\n",
    "*runBatchtests function with pandas output\n",
    "*matplotlib for runBatchtests\n",
    "review INCORRECTs and add to training data (not the verbatim tho that's cheating)\n",
    "    make function in training.py to add newly labelled utterances to training.json\n",
    "patterns\n",
    "predictions json\n",
    "entities https://docs.microsoft.com/en-us/azure/cognitive-services/luis/luis-concept-entity-types\n",
    "    list entity\n",
    "    regex entity\n",
    "    prebuilt entity\n",
    "    ML entity\n",
    "'''"
   ]
  },
  {
   "cell_type": "code",
   "execution_count": 6,
   "metadata": {},
   "outputs": [
    {
     "data": {
      "text/plain": [
       "'\\nNotes:\\nI noticed something very weird. It seems that my classifier is not deterministic, as in sometimes it produces\\noutput that is slightly different (few percentage pts) from previous output. This is weird because in theory\\nSVM is a deterministic algorithm, there should be no randomness to it. Will investigate further later\\n'"
      ]
     },
     "execution_count": 6,
     "metadata": {},
     "output_type": "execute_result"
    }
   ],
   "source": [
    "'''\n",
    "Notes:\n",
    "I noticed something very weird. It seems that my classifier is not deterministic, as in sometimes it produces\n",
    "output that is slightly different (few percentage pts) from previous output. This is weird because in theory\n",
    "SVM is a deterministic algorithm, there should be no randomness to it. Will investigate further later\n",
    "'''"
   ]
  },
  {
   "cell_type": "code",
   "execution_count": 7,
   "metadata": {},
   "outputs": [
    {
     "data": {
      "text/plain": [
       "('Intent.GRMIssues', 0.2140456824457134)"
      ]
     },
     "execution_count": 7,
     "metadata": {},
     "output_type": "execute_result"
    }
   ],
   "source": [
    "ic.classify(ic.SVMpredict('need to change contact info'))"
   ]
  },
  {
   "cell_type": "code",
   "execution_count": 8,
   "metadata": {},
   "outputs": [],
   "source": [
    "#ct.createTraining(r'C:\\Users\\n1555085\\Downloads\\powerbi_data.xlsx', 50)\n",
    "#ct.balanceCorrectedTraining()\n",
    "#rwjson.pushtrainingjson()"
   ]
  },
  {
   "cell_type": "code",
   "execution_count": null,
   "metadata": {},
   "outputs": [],
   "source": []
  }
 ],
 "metadata": {
  "kernelspec": {
   "display_name": "Python 3",
   "language": "python",
   "name": "python3"
  },
  "language_info": {
   "codemirror_mode": {
    "name": "ipython",
    "version": 3
   },
   "file_extension": ".py",
   "mimetype": "text/x-python",
   "name": "python",
   "nbconvert_exporter": "python",
   "pygments_lexer": "ipython3",
   "version": "3.8.5"
  }
 },
 "nbformat": 4,
 "nbformat_minor": 4
}

{
 "cells": [
  {
   "cell_type": "code",
   "execution_count": 1,
   "metadata": {},
   "outputs": [],
   "source": [
    "%run IntentClassifier.py\n",
    "%run batchtesting.py"
   ]
  },
  {
   "cell_type": "code",
   "execution_count": 2,
   "metadata": {},
   "outputs": [
    {
     "name": "stdout",
     "output_type": "stream",
     "text": [
      "BATCH TEST OF Batch_Tests/75-1.json\n",
      "75 Utterances. 48/75 64.0% Labeled Correctly\n",
      "F-Scores:\n",
      "  Intent.AccessIssues: 0.692\n",
      "  Intent.CallQualityIssues: 0.8\n",
      "  Intent.FrozenLoadingIssue: 0.357\n",
      "  Intent.GRMIssues: 0.769\n",
      "  Intent.GRSIssues: 1.0\n",
      "  Intent.MobileManagement: 0.889\n",
      "  Intent.NetworkIssues: 0.444\n",
      "  Intent.OutlookIssues: 0.8\n",
      "  Intent.RatingIssues: 1.0\n",
      "  Intent.HardWareIssues: 0.667\n",
      "  None: N/A (true positive of 0, cannot divide by 0)\n",
      "  Average: 0.7417999999999999\n",
      "\n",
      "\n",
      "\n",
      "BATCH TEST OF Batch_Tests/75-2.json\n",
      "75 Utterances. 49/75 65.33% Labeled Correctly\n",
      "F-Scores:\n",
      "  Intent.AccessIssues: 0.64\n",
      "  Intent.CallQualityIssues: 0.545\n",
      "  Intent.FrozenLoadingIssue: 0.353\n",
      "  Intent.GRMIssues: 0.778\n",
      "  Intent.GRSIssues: 0.75\n",
      "  Intent.MobileManagement: 0.875\n",
      "  Intent.NetworkIssues: 0.571\n",
      "  Intent.OutlookIssues: 0.87\n",
      "  Intent.RatingIssues: 0.8\n",
      "  Intent.HardWareIssues: 0.444\n",
      "  None: N/A (true positive of 0, cannot divide by 0)\n",
      "  Average: 0.6626\n",
      "\n",
      "\n",
      "\n",
      "BATCH TEST OF Batch_Tests/75-3.json\n",
      "75 Utterances. 42/75 56.0% Labeled Correctly\n",
      "F-Scores:\n",
      "  Intent.AccessIssues: 0.571\n",
      "  Intent.CallQualityIssues: 0.667\n",
      "  Intent.FrozenLoadingIssue: 0.111\n",
      "  Intent.GRMIssues: 0.857\n",
      "  Intent.GRSIssues: 0.571\n",
      "  Intent.MobileManagement: 0.571\n",
      "  Intent.NetworkIssues: 0.375\n",
      "  Intent.OutlookIssues: 0.857\n",
      "  Intent.RatingIssues: 0.8\n",
      "  Intent.HardWareIssues: 0.4\n",
      "  None: N/A (true positive of 0, cannot divide by 0)\n",
      "  Average: 0.5780000000000001\n",
      "\n",
      "\n",
      "\n"
     ]
    }
   ],
   "source": [
    "batchtest('Batch_Tests/75-1.json', 'rbf', verbose=False)\n",
    "batchtest('Batch_Tests/75-2.json', 'rbf', verbose=False)\n",
    "batchtest('Batch_Tests/75-3.json', 'rbf', verbose=False)"
   ]
  },
  {
   "cell_type": "code",
   "execution_count": 3,
   "metadata": {},
   "outputs": [
    {
     "data": {
      "text/plain": [
       "['unable access sales force getting error message',\n",
       " 'manger trying get access restored',\n",
       " 'need help new employees first time login',\n",
       " 'need access',\n",
       " 'avaya taking password',\n",
       " 'lm login issue team member',\n",
       " 'good morning locked logging enterprise',\n",
       " 'people liberty giving error message trying access',\n",
       " 'share point access',\n",
       " 'enterprise id password reset',\n",
       " 'im trying login ocas password showing invalid',\n",
       " 'cant access voicemailâ',\n",
       " 'unable open docs watson',\n",
       " 'reset password',\n",
       " 'password reset',\n",
       " 'becoming delegate longer existing employee',\n",
       " 'racf password',\n",
       " 'locked tracs many incorrect login attempts',\n",
       " 'lost access sales force affinity programarms',\n",
       " 'unable open sales force',\n",
       " 'aaccount login info available retrieve',\n",
       " 'good morning access bocomp revoked entering password wrong',\n",
       " 'arms unable login send forms',\n",
       " 'along peers trouble accessing aces via',\n",
       " 'locked eid login',\n",
       " 'unable login navigator',\n",
       " 'need help reset racf id revoked',\n",
       " 'cannot access',\n",
       " 'need assigned phone number new employee',\n",
       " 'required access',\n",
       " 'requestitform6004 access declinedneeds assigned rit remedy team',\n",
       " 'request',\n",
       " 'new imaged computer cannot login lm domain using home network',\n",
       " 'returned leave 6232021 access mcdc sso error',\n",
       " 'potentially locked via enterprise password working aces',\n",
       " 'unable sign new avaya updateâ',\n",
       " 'racf id working',\n",
       " 'need get access viaaces',\n",
       " 'need midway access',\n",
       " 'temporary token issues']"
      ]
     },
     "execution_count": 3,
     "metadata": {},
     "output_type": "execute_result"
    }
   ],
   "source": [
    "accessNormalized"
   ]
  },
  {
   "cell_type": "code",
   "execution_count": 4,
   "metadata": {},
   "outputs": [
    {
     "data": {
      "text/plain": [
       "'\\nTo Do:\\n*f-score calculations\\n*make Utterances class\\n*normalizations:\\n    stemming\\n    punctuation removal\\nNone hardcode label if max not high\\nresearch vectorizers more, experiment w type and params\\nmake BatchTest class\\nbatchstests function with pandas output\\nreview INCORRECTs and add to training data\\n    make function in training.py to add newly labelled utterances to training.json\\n\\nentities https://docs.microsoft.com/en-us/azure/cognitive-services/luis/luis-concept-entity-types\\n    list entity\\n    regex entity\\n    prebuilt entity\\n    ML entity\\n\\n'"
      ]
     },
     "execution_count": 4,
     "metadata": {},
     "output_type": "execute_result"
    }
   ],
   "source": [
    "'''\n",
    "To Do:\n",
    "*f-score calculations\n",
    "*make Utterances class\n",
    "*normalizations:\n",
    "    stemming\n",
    "    punctuation removal\n",
    "None hardcode label if max not high\n",
    "research vectorizers more, experiment w type and params\n",
    "make BatchTest class\n",
    "batchstests function with pandas output\n",
    "review INCORRECTs and add to training data\n",
    "    make function in training.py to add newly labelled utterances to training.json\n",
    "\n",
    "entities https://docs.microsoft.com/en-us/azure/cognitive-services/luis/luis-concept-entity-types\n",
    "    list entity\n",
    "    regex entity\n",
    "    prebuilt entity\n",
    "    ML entity\n",
    "\n",
    "'''"
   ]
  },
  {
   "cell_type": "code",
   "execution_count": null,
   "metadata": {},
   "outputs": [],
   "source": []
  }
 ],
 "metadata": {
  "kernelspec": {
   "display_name": "Python 3",
   "language": "python",
   "name": "python3"
  },
  "language_info": {
   "codemirror_mode": {
    "name": "ipython",
    "version": 3
   },
   "file_extension": ".py",
   "mimetype": "text/x-python",
   "name": "python",
   "nbconvert_exporter": "python",
   "pygments_lexer": "ipython3",
   "version": "3.8.5"
  }
 },
 "nbformat": 4,
 "nbformat_minor": 4
}

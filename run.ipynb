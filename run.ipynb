{
 "cells": [
  {
   "cell_type": "code",
   "execution_count": 1,
   "metadata": {},
   "outputs": [],
   "source": [
    "%run IntentClassifier.py\n",
    "%run batchtesting.py"
   ]
  },
  {
   "cell_type": "code",
   "execution_count": 2,
   "metadata": {},
   "outputs": [
    {
     "data": {
      "text/html": [
       "<div>\n",
       "<style scoped>\n",
       "    .dataframe tbody tr th:only-of-type {\n",
       "        vertical-align: middle;\n",
       "    }\n",
       "\n",
       "    .dataframe tbody tr th {\n",
       "        vertical-align: top;\n",
       "    }\n",
       "\n",
       "    .dataframe thead th {\n",
       "        text-align: right;\n",
       "    }\n",
       "</style>\n",
       "<table border=\"1\" class=\"dataframe\">\n",
       "  <thead>\n",
       "    <tr style=\"text-align: right;\">\n",
       "      <th></th>\n",
       "      <th>Access</th>\n",
       "      <th>Call</th>\n",
       "      <th>Frozen</th>\n",
       "      <th>GRM</th>\n",
       "      <th>GRS</th>\n",
       "      <th>Mobile</th>\n",
       "      <th>Network</th>\n",
       "      <th>Outlook</th>\n",
       "      <th>Rating</th>\n",
       "      <th>Hardware</th>\n",
       "      <th>None</th>\n",
       "      <th>Avg</th>\n",
       "    </tr>\n",
       "  </thead>\n",
       "  <tbody>\n",
       "    <tr>\n",
       "      <th>75-1</th>\n",
       "      <td>0.636</td>\n",
       "      <td>0.875</td>\n",
       "      <td>0.714</td>\n",
       "      <td>0.600</td>\n",
       "      <td>1.000</td>\n",
       "      <td>0.889</td>\n",
       "      <td>1.000</td>\n",
       "      <td>0.800</td>\n",
       "      <td>1.000</td>\n",
       "      <td>0.889</td>\n",
       "      <td>0.571</td>\n",
       "      <td>0.816</td>\n",
       "    </tr>\n",
       "    <tr>\n",
       "      <th>75-2</th>\n",
       "      <td>0.583</td>\n",
       "      <td>0.500</td>\n",
       "      <td>0.667</td>\n",
       "      <td>0.471</td>\n",
       "      <td>0.667</td>\n",
       "      <td>0.824</td>\n",
       "      <td>0.857</td>\n",
       "      <td>0.737</td>\n",
       "      <td>1.000</td>\n",
       "      <td>0.800</td>\n",
       "      <td>0.455</td>\n",
       "      <td>0.687</td>\n",
       "    </tr>\n",
       "    <tr>\n",
       "      <th>75-3</th>\n",
       "      <td>0.316</td>\n",
       "      <td>0.727</td>\n",
       "      <td>0.500</td>\n",
       "      <td>0.842</td>\n",
       "      <td>0.889</td>\n",
       "      <td>0.571</td>\n",
       "      <td>0.737</td>\n",
       "      <td>0.737</td>\n",
       "      <td>0.857</td>\n",
       "      <td>0.857</td>\n",
       "      <td>0.320</td>\n",
       "      <td>0.668</td>\n",
       "    </tr>\n",
       "    <tr>\n",
       "      <th>110-4</th>\n",
       "      <td>0.632</td>\n",
       "      <td>0.588</td>\n",
       "      <td>0.842</td>\n",
       "      <td>0.632</td>\n",
       "      <td>0.625</td>\n",
       "      <td>0.900</td>\n",
       "      <td>0.706</td>\n",
       "      <td>0.750</td>\n",
       "      <td>0.889</td>\n",
       "      <td>0.667</td>\n",
       "      <td>0.409</td>\n",
       "      <td>0.695</td>\n",
       "    </tr>\n",
       "    <tr>\n",
       "      <th>110-5</th>\n",
       "      <td>0.538</td>\n",
       "      <td>0.500</td>\n",
       "      <td>0.750</td>\n",
       "      <td>0.556</td>\n",
       "      <td>0.824</td>\n",
       "      <td>0.737</td>\n",
       "      <td>0.667</td>\n",
       "      <td>0.778</td>\n",
       "      <td>0.952</td>\n",
       "      <td>0.462</td>\n",
       "      <td>0.316</td>\n",
       "      <td>0.644</td>\n",
       "    </tr>\n",
       "    <tr>\n",
       "      <th>110-6</th>\n",
       "      <td>0.375</td>\n",
       "      <td>0.667</td>\n",
       "      <td>0.778</td>\n",
       "      <td>0.842</td>\n",
       "      <td>0.571</td>\n",
       "      <td>0.800</td>\n",
       "      <td>0.800</td>\n",
       "      <td>0.900</td>\n",
       "      <td>0.952</td>\n",
       "      <td>0.429</td>\n",
       "      <td>0.378</td>\n",
       "      <td>0.681</td>\n",
       "    </tr>\n",
       "    <tr>\n",
       "      <th>Avg</th>\n",
       "      <td>0.513</td>\n",
       "      <td>0.643</td>\n",
       "      <td>0.708</td>\n",
       "      <td>0.657</td>\n",
       "      <td>0.763</td>\n",
       "      <td>0.787</td>\n",
       "      <td>0.794</td>\n",
       "      <td>0.784</td>\n",
       "      <td>0.942</td>\n",
       "      <td>0.684</td>\n",
       "      <td>0.408</td>\n",
       "      <td>0.699</td>\n",
       "    </tr>\n",
       "  </tbody>\n",
       "</table>\n",
       "</div>"
      ],
      "text/plain": [
       "       Access   Call  Frozen    GRM    GRS  Mobile  Network  Outlook  Rating  \\\n",
       "75-1    0.636  0.875   0.714  0.600  1.000   0.889    1.000    0.800   1.000   \n",
       "75-2    0.583  0.500   0.667  0.471  0.667   0.824    0.857    0.737   1.000   \n",
       "75-3    0.316  0.727   0.500  0.842  0.889   0.571    0.737    0.737   0.857   \n",
       "110-4   0.632  0.588   0.842  0.632  0.625   0.900    0.706    0.750   0.889   \n",
       "110-5   0.538  0.500   0.750  0.556  0.824   0.737    0.667    0.778   0.952   \n",
       "110-6   0.375  0.667   0.778  0.842  0.571   0.800    0.800    0.900   0.952   \n",
       "Avg     0.513  0.643   0.708  0.657  0.763   0.787    0.794    0.784   0.942   \n",
       "\n",
       "       Hardware   None    Avg  \n",
       "75-1      0.889  0.571  0.816  \n",
       "75-2      0.800  0.455  0.687  \n",
       "75-3      0.857  0.320  0.668  \n",
       "110-4     0.667  0.409  0.695  \n",
       "110-5     0.462  0.316  0.644  \n",
       "110-6     0.429  0.378  0.681  \n",
       "Avg       0.684  0.408  0.699  "
      ]
     },
     "metadata": {},
     "output_type": "display_data"
    },
    {
     "data": {
      "image/png": "[encoded data removed]",
      "text/plain": [
       "<Figure size 936x648 with 1 Axes>"
      ]
     },
     "metadata": {
      "needs_background": "light"
     },
     "output_type": "display_data"
    }
   ],
   "source": [
    "files = ['Batch_Tests/75-1.json', 'Batch_Tests/75-2.json', 'Batch_Tests/75-3.json']\n",
    "files += ['Batch_Tests/110-4.json', 'Batch_Tests/110-5.json', 'Batch_Tests/110-6.json']\n",
    "runBatchtests(files)"
   ]
  },
  {
   "cell_type": "code",
   "execution_count": 3,
   "metadata": {},
   "outputs": [
    {
     "data": {
      "text/plain": [
       "\"batchtest('Batch_Tests/75-1.json', verbose=False)\\nbatchtest('Batch_Tests/75-2.json', verbose=False)\\nbatchtest('Batch_Tests/75-3.json', verbose=False)\\nbatchtest('Batch_Tests/111-4.json', verbose=False)\\nbatchtest('Batch_Tests/110-5.json', verbose=False)\\nbatchtest('Batch_Tests/111-6.json', verbose=False)\\nbatchtest('training.json', verbose=False)\""
      ]
     },
     "execution_count": 3,
     "metadata": {},
     "output_type": "execute_result"
    }
   ],
   "source": [
    "'''batchtest('Batch_Tests/75-1.json', verbose=False)\n",
    "batchtest('Batch_Tests/75-2.json', verbose=False)\n",
    "batchtest('Batch_Tests/75-3.json', verbose=False)\n",
    "batchtest('Batch_Tests/111-4.json', verbose=False)\n",
    "batchtest('Batch_Tests/110-5.json', verbose=False)\n",
    "batchtest('Batch_Tests/111-6.json', verbose=False)\n",
    "batchtest('training.json', verbose=False)'''"
   ]
  },
  {
   "cell_type": "code",
   "execution_count": 4,
   "metadata": {},
   "outputs": [],
   "source": [
    "import rwjson\n",
    "import createtraining as ct\n",
    "#rwjson.writetrainingjson([('test utterance 1', 'None'), ('test utterance 2', 'None')])\n",
    "ct.createTraining(r'C:\\Users\\n1555085\\Downloads\\powerbi_data.xlsx', 20)"
   ]
  },
  {
   "cell_type": "code",
   "execution_count": 5,
   "metadata": {},
   "outputs": [
    {
     "data": {
      "text/plain": [
       "\"\\nTo Do:\\n*f-score calculations\\n*make Utterances class\\n*normalizations:\\n    stemming\\n    punctuation removal\\n*label None if None probability high enough (classification override)\\n*research decision_function vs predict vs predict_proba more https://scikit-learn.org/stable/modules/svm.html#scores-and-probabilities\\n*research vectorizers more, experiment w type and params\\n*runBatchtests function with pandas output\\n*matplotlib for runBatchtests\\nreview INCORRECTs and add to training data (not the verbatim tho that's cheating)\\n    make function in training.py to add newly labelled utterances to training.json\\npatterns\\npredictions json\\nentities https://docs.microsoft.com/en-us/azure/cognitive-services/luis/luis-concept-entity-types\\n    list entity\\n    regex entity\\n    prebuilt entity\\n    ML entity\\n\""
      ]
     },
     "execution_count": 5,
     "metadata": {},
     "output_type": "execute_result"
    }
   ],
   "source": [
    "'''\n",
    "To Do:\n",
    "*f-score calculations\n",
    "*make Utterances class\n",
    "*normalizations:\n",
    "    stemming\n",
    "    punctuation removal\n",
    "*label None if None probability high enough (classification override)\n",
    "*research decision_function vs predict vs predict_proba more https://scikit-learn.org/stable/modules/svm.html#scores-and-probabilities\n",
    "*research vectorizers more, experiment w type and params\n",
    "*runBatchtests function with pandas output\n",
    "*matplotlib for runBatchtests\n",
    "review INCORRECTs and add to training data (not the verbatim tho that's cheating)\n",
    "    make function in training.py to add newly labelled utterances to training.json\n",
    "patterns\n",
    "predictions json\n",
    "entities https://docs.microsoft.com/en-us/azure/cognitive-services/luis/luis-concept-entity-types\n",
    "    list entity\n",
    "    regex entity\n",
    "    prebuilt entity\n",
    "    ML entity\n",
    "'''"
   ]
  },
  {
   "cell_type": "code",
   "execution_count": 6,
   "metadata": {},
   "outputs": [
    {
     "data": {
      "text/plain": [
       "'\\nNotes:\\nI noticed something very weird. It seems that my classifier is not deterministic, as in sometimes it produces\\noutput that is slightly different (few percentage pts) from previous output. This is weird because in theory\\nSVM is a deterministic algorithm, there should be no randomness to it. Will investigate further later\\n'"
      ]
     },
     "execution_count": 6,
     "metadata": {},
     "output_type": "execute_result"
    }
   ],
   "source": [
    "'''\n",
    "Notes:\n",
    "I noticed something very weird. It seems that my classifier is not deterministic, as in sometimes it produces\n",
    "output that is slightly different (few percentage pts) from previous output. This is weird because in theory\n",
    "SVM is a deterministic algorithm, there should be no randomness to it. Will investigate further later\n",
    "'''"
   ]
  },
  {
   "cell_type": "code",
   "execution_count": 7,
   "metadata": {},
   "outputs": [
    {
     "data": {
      "text/plain": [
       "('None', 0.15589738591829885)"
      ]
     },
     "execution_count": 7,
     "metadata": {},
     "output_type": "execute_result"
    }
   ],
   "source": [
    "ic.classify(ic.SVMpredict('need to change contact info'))"
   ]
  },
  {
   "cell_type": "code",
   "execution_count": null,
   "metadata": {},
   "outputs": [],
   "source": []
  }
 ],
 "metadata": {
  "kernelspec": {
   "display_name": "Python 3",
   "language": "python",
   "name": "python3"
  },
  "language_info": {
   "codemirror_mode": {
    "name": "ipython",
    "version": 3
   },
   "file_extension": ".py",
   "mimetype": "text/x-python",
   "name": "python",
   "nbconvert_exporter": "python",
   "pygments_lexer": "ipython3",
   "version": "3.8.5"
  }
 },
 "nbformat": 4,
 "nbformat_minor": 4
}
